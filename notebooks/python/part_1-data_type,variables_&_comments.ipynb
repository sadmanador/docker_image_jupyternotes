{
 "cells": [
  {
   "cell_type": "markdown",
   "id": "53a03c8f-60b3-4f62-a65b-5c27b56b1d13",
   "metadata": {},
   "source": [
    "# Comments, Variable & data type"
   ]
  },
  {
   "cell_type": "markdown",
   "id": "798117c9-bd00-4d7e-bb82-88c170724e37",
   "metadata": {},
   "source": [
    "## Single line comment and Multiline comment"
   ]
  },
  {
   "cell_type": "code",
   "execution_count": 2,
   "id": "de9b1863-e8b6-4eb3-9d4e-1ec123fbfeff",
   "metadata": {},
   "outputs": [],
   "source": [
    "# this the single line comment"
   ]
  },
  {
   "cell_type": "code",
   "execution_count": 4,
   "id": "33b14ffe-bd77-47ff-b173-18b1bcb10416",
   "metadata": {},
   "outputs": [
    {
     "data": {
      "text/plain": [
       "'\\nthis is\\nmultiline\\ncomment\\n'"
      ]
     },
     "execution_count": 4,
     "metadata": {},
     "output_type": "execute_result"
    }
   ],
   "source": [
    "\"\"\"\n",
    "this is\n",
    "multiline\n",
    "comment\n",
    "\"\"\""
   ]
  },
  {
   "cell_type": "markdown",
   "id": "90ff9800-322a-44cb-a7fb-d57670accb89",
   "metadata": {},
   "source": [
    "## Variables\n",
    "variable helps to store the data"
   ]
  },
  {
   "cell_type": "code",
   "execution_count": 5,
   "id": "337d971a-cb70-4201-a80d-ef6cb50ab336",
   "metadata": {},
   "outputs": [
    {
     "name": "stdout",
     "output_type": "stream",
     "text": [
      "5 10\n",
      "15\n"
     ]
    }
   ],
   "source": [
    "x = 5\n",
    "y = 10\n",
    "print(x,y)\n",
    "print(x+y)"
   ]
  },
  {
   "cell_type": "markdown",
   "id": "91ba6084-4bf1-4c94-884c-4d26cbceeaf2",
   "metadata": {},
   "source": [
    "## Assign multiple varialbe at once"
   ]
  },
  {
   "cell_type": "code",
   "execution_count": 6,
   "id": "49668baa-ac61-4d25-bedc-7f28f6b34a29",
   "metadata": {},
   "outputs": [
    {
     "name": "stdout",
     "output_type": "stream",
     "text": [
      "Orange\n",
      "Banana\n",
      "Cherry\n"
     ]
    }
   ],
   "source": [
    "x, y, z = \"Orange\", \"Banana\", \"Cherry\"\n",
    "print(x)\n",
    "print(y)\n",
    "print(z)"
   ]
  },
  {
   "cell_type": "markdown",
   "id": "bba33cfa-d1ca-482c-917f-f5bb70fc5144",
   "metadata": {},
   "source": [
    "## Unpacking the list or collection"
   ]
  },
  {
   "cell_type": "code",
   "execution_count": 7,
   "id": "2c09a861-05da-4ba7-8f7d-0c37babd42ec",
   "metadata": {},
   "outputs": [
    {
     "name": "stdout",
     "output_type": "stream",
     "text": [
      "apple\n",
      "banana\n",
      "cherry\n"
     ]
    }
   ],
   "source": [
    "fruits = [\"apple\", \"banana\", \"cherry\"]\n",
    "x, y, z = fruits\n",
    "print(x)\n",
    "print(y)\n",
    "print(z)"
   ]
  },
  {
   "cell_type": "markdown",
   "id": "b9c7efe4-67f4-4855-bf35-148188e4b703",
   "metadata": {},
   "source": [
    "## Data type and type & type funciton"
   ]
  },
  {
   "cell_type": "code",
   "execution_count": 10,
   "id": "a847227b-c21d-4e7c-855d-8e327f53addf",
   "metadata": {},
   "outputs": [
    {
     "name": "stdout",
     "output_type": "stream",
     "text": [
      "Number: 42\n",
      "String: Hello, World!\n",
      "Boolean: True\n",
      "None: None\n",
      "List: [1, 2, 3, 4, 5]\n",
      "Tuple: (1, 2, 3)\n",
      "Set: {1, 2, 3}\n",
      "Dictionary: {'name': 'Alice', 'age': 25}\n",
      "Function: I am a function\n",
      "Complex: (2+3j)\n",
      "Bytes: b'Hello'\n"
     ]
    }
   ],
   "source": [
    "number_type = 42\n",
    "string_type = \"Hello, World!\"\n",
    "boolean_type = True\n",
    "none_type = None\n",
    "list_type = [1, 2, 3, 4, 5]\n",
    "tuple_type = (1, 2, 3)\n",
    "set_type = {1, 2, 3}\n",
    "dict_type = {\"name\": \"Alice\", \"age\": 25}\n",
    "function_type = lambda: \"I am a function\"\n",
    "complex_type = 2 + 3j\n",
    "bytes_type = b\"Hello\"\n",
    "\n",
    "print(\"Number:\", number_type)\n",
    "print(\"String:\", string_type)\n",
    "print(\"Boolean:\", boolean_type)\n",
    "print(\"None:\", none_type)\n",
    "print(\"List:\", list_type)\n",
    "print(\"Tuple:\", tuple_type)\n",
    "print(\"Set:\", set_type)\n",
    "print(\"Dictionary:\", dict_type)\n",
    "print(\"Function:\", function_type())\n",
    "print(\"Complex:\", complex_type)\n",
    "print(\"Bytes:\", bytes_type)"
   ]
  },
  {
   "cell_type": "code",
   "execution_count": 11,
   "id": "8721ed83-656a-471b-a45b-221a6c7e4835",
   "metadata": {},
   "outputs": [
    {
     "name": "stdout",
     "output_type": "stream",
     "text": [
      "<class 'int'>\n",
      "<class 'str'>\n",
      "<class 'bool'>\n",
      "<class 'NoneType'>\n",
      "<class 'list'>\n",
      "<class 'tuple'>\n",
      "<class 'set'>\n",
      "<class 'dict'>\n",
      "<class 'function'>\n",
      "<class 'complex'>\n",
      "<class 'bytes'>\n"
     ]
    }
   ],
   "source": [
    "print(type(number_type))\n",
    "print(type(string_type))\n",
    "print(type(boolean_type))\n",
    "print(type(none_type))\n",
    "print(type(list_type))\n",
    "print(type(tuple_type))\n",
    "print(type(set_type))\n",
    "print(type(dict_type))\n",
    "print(type(function_type))\n",
    "print(type(complex_type))\n",
    "print(type(bytes_type))"
   ]
  },
  {
   "cell_type": "code",
   "execution_count": null,
   "id": "37794bb3-87c1-4823-be9d-5cd882c5d224",
   "metadata": {},
   "outputs": [],
   "source": []
  }
 ],
 "metadata": {
  "kernelspec": {
   "display_name": "Python 3 (ipykernel)",
   "language": "python",
   "name": "python3"
  },
  "language_info": {
   "codemirror_mode": {
    "name": "ipython",
    "version": 3
   },
   "file_extension": ".py",
   "mimetype": "text/x-python",
   "name": "python",
   "nbconvert_exporter": "python",
   "pygments_lexer": "ipython3",
   "version": "3.11.10"
  }
 },
 "nbformat": 4,
 "nbformat_minor": 5
}
