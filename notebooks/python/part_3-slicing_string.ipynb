{
 "cells": [
  {
   "cell_type": "code",
   "execution_count": 1,
   "id": "3f0f26b3-b66a-491c-ac0a-27d2213c969a",
   "metadata": {},
   "outputs": [],
   "source": [
    "long_string = \"\"\"Life is a journey filled with a mix of joy, sorrow, love, and loss. \n",
    "Each moment, whether grand or ordinary, shapes who we are and how we connect with others. \n",
    "The beauty lies in our imperfections, our ability to learn, grow, and find strength in vulnerability. \n",
    "It’s not the destination that defines us, but the experiences and memories we create along the way.\"\"\""
   ]
  },
  {
   "cell_type": "markdown",
   "id": "4952a3cf-dc5e-48dc-bfe4-bed69a7f4d53",
   "metadata": {},
   "source": [
    "## Slicing to omit the characters from beggining"
   ]
  },
  {
   "cell_type": "code",
   "execution_count": 3,
   "id": "097a65b8-58a6-40a5-a75b-170b13adf0be",
   "metadata": {},
   "outputs": [
    {
     "name": "stdout",
     "output_type": "stream",
     "text": [
      "filled with a mix of joy, sorrow, love, and loss. \n",
      "Each moment, whether grand or ordinary, shapes who we are and how we connect with others. \n",
      "The beauty lies in our imperfections, our ability to learn, grow, and find strength in vulnerability. \n",
      "It’s not the destination that defines us, but the experiences and memories we create along the way.\n"
     ]
    }
   ],
   "source": [
    "print(long_string[18:])"
   ]
  },
  {
   "cell_type": "markdown",
   "id": "3147ad7f-b264-4395-9d3d-376f4d982d44",
   "metadata": {},
   "source": [
    "## Slicing to omit the characters from end"
   ]
  },
  {
   "cell_type": "code",
   "execution_count": 5,
   "id": "3e7a391b-5cd2-4579-bbcd-2f9ee4530c06",
   "metadata": {},
   "outputs": [
    {
     "name": "stdout",
     "output_type": "stream",
     "text": [
      "Life is a journey \n"
     ]
    }
   ],
   "source": [
    "print(long_string[:18])"
   ]
  },
  {
   "cell_type": "markdown",
   "id": "712f3dae-d3eb-41c3-97f0-68395e6bf501",
   "metadata": {},
   "source": [
    "## Selecting character from the end"
   ]
  },
  {
   "cell_type": "code",
   "execution_count": 8,
   "id": "8e3345a6-9069-44a0-88ca-33a764d27937",
   "metadata": {},
   "outputs": [
    {
     "name": "stdout",
     "output_type": "stream",
     "text": [
      "along the way\n"
     ]
    }
   ],
   "source": [
    "print(long_string[-14: -1])"
   ]
  },
  {
   "cell_type": "code",
   "execution_count": null,
   "id": "1cfe1e07-9285-4c6f-970e-76a0bc47a62b",
   "metadata": {},
   "outputs": [],
   "source": []
  }
 ],
 "metadata": {
  "kernelspec": {
   "display_name": "Python 3 (ipykernel)",
   "language": "python",
   "name": "python3"
  },
  "language_info": {
   "codemirror_mode": {
    "name": "ipython",
    "version": 3
   },
   "file_extension": ".py",
   "mimetype": "text/x-python",
   "name": "python",
   "nbconvert_exporter": "python",
   "pygments_lexer": "ipython3",
   "version": "3.11.10"
  }
 },
 "nbformat": 4,
 "nbformat_minor": 5
}
