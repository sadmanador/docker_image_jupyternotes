{
 "cells": [
  {
   "cell_type": "markdown",
   "id": "7396e5cc-54f1-4fd6-868a-c66eb6a9cc27",
   "metadata": {},
   "source": [
    "# Boolean\n",
    "* boolean can predefine variable\n",
    "* boolean can be also return value of any condition"
   ]
  },
  {
   "cell_type": "code",
   "execution_count": 1,
   "id": "53fcfbfd-69c1-4cb9-a387-9e0263f7d3e2",
   "metadata": {},
   "outputs": [
    {
     "name": "stdout",
     "output_type": "stream",
     "text": [
      "True\n",
      "False\n",
      "False\n"
     ]
    }
   ],
   "source": [
    "print(10 > 9)\n",
    "print(10 == 9)\n",
    "print(10 < 9)"
   ]
  },
  {
   "cell_type": "code",
   "execution_count": 3,
   "id": "3b1c361e-a8ea-492e-a2d2-9c676575616b",
   "metadata": {},
   "outputs": [
    {
     "name": "stdout",
     "output_type": "stream",
     "text": [
      "False\n",
      "True\n"
     ]
    }
   ],
   "source": [
    "print(bool(\"\"))\n",
    "print(bool(\"something is written\"))"
   ]
  },
  {
   "cell_type": "code",
   "execution_count": 14,
   "id": "b3250609-4912-4fe0-9215-b722146b815e",
   "metadata": {},
   "outputs": [
    {
     "name": "stdout",
     "output_type": "stream",
     "text": [
      "True\n",
      "False\n",
      "False\n",
      "\n",
      "Empty tuple, list, dics are False\n",
      "False\n",
      "False\n",
      "False\n",
      "\n",
      "All filled tuple, list, dics are True\n",
      "True\n",
      "True\n",
      "True\n",
      "True\n"
     ]
    }
   ],
   "source": [
    "print(bool(5))\n",
    "print(bool(0))\n",
    "print(bool(None))\n",
    "\n",
    "print(\"\\nEmpty tuple, list, dics are False\")\n",
    "print(bool(()))\n",
    "print(bool({}))\n",
    "print(bool([]))\n",
    "\n",
    "print(\"\\nAll filled tuple, list, dics are True\")\n",
    "print(bool((2,2)))\n",
    "print(bool({2,2}))\n",
    "print(bool([2,2]))\n",
    "print(bool({\"name\": \"Alice\", \"age\": 25}))"
   ]
  },
  {
   "cell_type": "code",
   "execution_count": null,
   "id": "e81c4aab-7587-4959-98cf-25003a736670",
   "metadata": {},
   "outputs": [],
   "source": []
  }
 ],
 "metadata": {
  "kernelspec": {
   "display_name": "Python 3 (ipykernel)",
   "language": "python",
   "name": "python3"
  },
  "language_info": {
   "codemirror_mode": {
    "name": "ipython",
    "version": 3
   },
   "file_extension": ".py",
   "mimetype": "text/x-python",
   "name": "python",
   "nbconvert_exporter": "python",
   "pygments_lexer": "ipython3",
   "version": "3.11.10"
  }
 },
 "nbformat": 4,
 "nbformat_minor": 5
}
