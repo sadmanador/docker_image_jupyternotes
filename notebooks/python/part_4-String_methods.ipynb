{
 "cells": [
  {
   "cell_type": "markdown",
   "id": "18e04910-e7d3-466b-ae62-66fc2e751419",
   "metadata": {},
   "source": [
    "# String modifications"
   ]
  },
  {
   "cell_type": "markdown",
   "id": "8932c3b7-c1af-408d-8df1-344a1a75eb8e",
   "metadata": {},
   "source": [
    "## Covert the entire string to uppercase string"
   ]
  },
  {
   "cell_type": "code",
   "execution_count": 14,
   "id": "4e132416-2ae9-43ae-82a7-ea887329b07e",
   "metadata": {},
   "outputs": [
    {
     "name": "stdout",
     "output_type": "stream",
     "text": [
      "   LIFE IS A JOURNEY FILLED WITH A MIX OF JOY, SORROW, LOVE, AND LOSS.   \n"
     ]
    }
   ],
   "source": [
    "x = \"   Life is a journey filled with a mix of joy, sorrow, love, and loss.   \"\n",
    "print(x.upper())"
   ]
  },
  {
   "cell_type": "markdown",
   "id": "50183639-30ea-424a-8301-6ca3ce52b0da",
   "metadata": {},
   "source": [
    "## Covert the entire string to lowercase string"
   ]
  },
  {
   "cell_type": "code",
   "execution_count": 2,
   "id": "7c2209c6-16c0-4f65-9b0a-254806cfa56a",
   "metadata": {},
   "outputs": [
    {
     "name": "stdout",
     "output_type": "stream",
     "text": [
      "life is a journey filled with a mix of joy, sorrow, love, and loss.\n"
     ]
    }
   ],
   "source": [
    "print(x.lower())"
   ]
  },
  {
   "cell_type": "markdown",
   "id": "d6c21d46-1690-4bf8-a84e-0bbbf615959d",
   "metadata": {},
   "source": [
    "## Get rid of any whitespaces at the begining and and at the end"
   ]
  },
  {
   "cell_type": "code",
   "execution_count": 8,
   "id": "7a9cb1ca-27a4-41ef-b604-be1a4246fd27",
   "metadata": {},
   "outputs": [
    {
     "name": "stdout",
     "output_type": "stream",
     "text": [
      "Life is a journey filled with a mix of joy, sorrow, love, and loss.\n"
     ]
    }
   ],
   "source": [
    "print(x.strip())"
   ]
  },
  {
   "cell_type": "markdown",
   "id": "9c2333b9-c76f-4e84-bffb-a3a826da1261",
   "metadata": {},
   "source": [
    "## Replacing any character with another character"
   ]
  },
  {
   "cell_type": "code",
   "execution_count": 9,
   "id": "3a98d1e2-7c30-4ccb-b93d-0c6cf565f237",
   "metadata": {},
   "outputs": [
    {
     "name": "stdout",
     "output_type": "stream",
     "text": [
      "   Wife is a journey filled with a mix of joy, sorrow, love, and loss.   \n"
     ]
    }
   ],
   "source": [
    "print(x.replace(\"L\",\"W\"))"
   ]
  },
  {
   "cell_type": "markdown",
   "id": "2fd74e25-362b-43d4-a8df-3eda035078d6",
   "metadata": {},
   "source": [
    "## Spliting string will return a list"
   ]
  },
  {
   "cell_type": "code",
   "execution_count": 10,
   "id": "14bdaf66-933a-40c1-82c1-40ab66555470",
   "metadata": {},
   "outputs": [
    {
     "name": "stdout",
     "output_type": "stream",
     "text": [
      "['   Life is a journey filled with a mix of joy', ' sorrow', ' love', ' and loss.   ']\n"
     ]
    }
   ],
   "source": [
    "print(x.split(','))"
   ]
  },
  {
   "cell_type": "markdown",
   "id": "6f971603-4ea8-43b3-a44e-216f6667551a",
   "metadata": {},
   "source": [
    "## F-string allows to use placeholder into the string so that other varialbes can be placed"
   ]
  },
  {
   "cell_type": "code",
   "execution_count": 13,
   "id": "448bf3f8-c626-4588-af98-3dcf55dc3b84",
   "metadata": {},
   "outputs": [
    {
     "data": {
      "text/plain": [
       "'Life is a journey filled with a mix of joy, sorrow, love, and loss.'"
      ]
     },
     "execution_count": 13,
     "metadata": {},
     "output_type": "execute_result"
    }
   ],
   "source": [
    "var1, var2, var3 = \"sorrow\", \"love\", \"loss\"\n",
    "y = f\"Life is a journey filled with a mix of joy, {var1}, {var2}, and {var3}.\"\n",
    "y"
   ]
  }
 ],
 "metadata": {
  "kernelspec": {
   "display_name": "Python 3 (ipykernel)",
   "language": "python",
   "name": "python3"
  },
  "language_info": {
   "codemirror_mode": {
    "name": "ipython",
    "version": 3
   },
   "file_extension": ".py",
   "mimetype": "text/x-python",
   "name": "python",
   "nbconvert_exporter": "python",
   "pygments_lexer": "ipython3",
   "version": "3.11.10"
  }
 },
 "nbformat": 4,
 "nbformat_minor": 5
}
