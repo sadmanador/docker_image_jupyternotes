{
 "cells": [
  {
   "cell_type": "markdown",
   "id": "74e0e850-8182-4615-835a-a16c5d77da3e",
   "metadata": {},
   "source": [
    "# Define the type upon creating variable"
   ]
  },
  {
   "cell_type": "code",
   "execution_count": 1,
   "id": "2962e12a-83fa-4702-992c-52ab87206eab",
   "metadata": {},
   "outputs": [
    {
     "data": {
      "text/plain": [
       "5"
      ]
     },
     "execution_count": 1,
     "metadata": {},
     "output_type": "execute_result"
    }
   ],
   "source": [
    "x = int(5)\n",
    "x"
   ]
  },
  {
   "cell_type": "markdown",
   "id": "d3c03873-b189-4bf5-b0fa-70c2767a3d5c",
   "metadata": {},
   "source": [
    "## Change the old type with a new one"
   ]
  },
  {
   "cell_type": "code",
   "execution_count": 2,
   "id": "a91f2d4b-12fb-4ca2-8e5c-d32e39575fe0",
   "metadata": {},
   "outputs": [
    {
     "data": {
      "text/plain": [
       "5.0"
      ]
     },
     "execution_count": 2,
     "metadata": {},
     "output_type": "execute_result"
    }
   ],
   "source": [
    "y = float(x)\n",
    "y"
   ]
  },
  {
   "cell_type": "code",
   "execution_count": 7,
   "id": "aca53ac8-0909-4623-ad51-763dc4ccb50b",
   "metadata": {},
   "outputs": [
    {
     "data": {
      "text/plain": [
       "'5.0'"
      ]
     },
     "execution_count": 7,
     "metadata": {},
     "output_type": "execute_result"
    }
   ],
   "source": [
    "z = str(y)\n",
    "z"
   ]
  },
  {
   "cell_type": "code",
   "execution_count": 9,
   "id": "58c13367-27bd-495d-81e4-8b57d90b1e7c",
   "metadata": {},
   "outputs": [
    {
     "data": {
      "text/plain": [
       "True"
      ]
     },
     "execution_count": 9,
     "metadata": {},
     "output_type": "execute_result"
    }
   ],
   "source": [
    "boolean = bool(x)\n",
    "boolean"
   ]
  },
  {
   "cell_type": "code",
   "execution_count": 10,
   "id": "22b4be08-1ddb-404e-b0a6-53f47fa8041a",
   "metadata": {
    "scrolled": true
   },
   "outputs": [
    {
     "name": "stdout",
     "output_type": "stream",
     "text": [
      "<class 'int'>\n",
      "<class 'float'>\n",
      "<class 'str'>\n",
      "True\n"
     ]
    }
   ],
   "source": [
    "print(type(x))\n",
    "print(type(y))\n",
    "print(type(z))\n",
    "print(boolean)"
   ]
  },
  {
   "cell_type": "code",
   "execution_count": null,
   "id": "f5ab7dca-be6b-4578-bcf2-64e181a1e0f5",
   "metadata": {},
   "outputs": [],
   "source": []
  }
 ],
 "metadata": {
  "kernelspec": {
   "display_name": "Python 3 (ipykernel)",
   "language": "python",
   "name": "python3"
  },
  "language_info": {
   "codemirror_mode": {
    "name": "ipython",
    "version": 3
   },
   "file_extension": ".py",
   "mimetype": "text/x-python",
   "name": "python",
   "nbconvert_exporter": "python",
   "pygments_lexer": "ipython3",
   "version": "3.11.10"
  }
 },
 "nbformat": 4,
 "nbformat_minor": 5
}
