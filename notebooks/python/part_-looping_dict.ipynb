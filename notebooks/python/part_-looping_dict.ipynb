{
 "cells": [
  {
   "cell_type": "code",
   "execution_count": 1,
   "id": "60e03a33-0a68-4407-abed-17aef78517c5",
   "metadata": {},
   "outputs": [],
   "source": [
    "country_gdps = {\n",
    "    \"United States\": 25470,\n",
    "    \"China\": 19490,\n",
    "    \"Japan\": 5370,\n",
    "    \"Germany\": 4730,\n",
    "    \"India\": 3640,\n",
    "    \"United Kingdom\": 3300,\n",
    "    \"France\": 3230,\n",
    "    \"Italy\": 2090,\n",
    "    \"Canada\": 2200,\n",
    "    \"South Korea\": 2060,\n",
    "}"
   ]
  },
  {
   "cell_type": "code",
   "execution_count": 3,
   "id": "3ffd0c81-1576-4f7c-b5d0-bae66bf30961",
   "metadata": {},
   "outputs": [
    {
     "name": "stdout",
     "output_type": "stream",
     "text": [
      "The GDP of United States is 25470\n",
      "The GDP of China is 19490\n",
      "The GDP of Japan is 5370\n",
      "The GDP of Germany is 4730\n",
      "The GDP of India is 3640\n",
      "The GDP of United Kingdom is 3300\n",
      "The GDP of France is 3230\n",
      "The GDP of Italy is 2090\n",
      "The GDP of Canada is 2200\n",
      "The GDP of South Korea is 2060\n"
     ]
    }
   ],
   "source": [
    "for country, gdp in country_gdps.items():\n",
    "    print(\"The GDP of \" + country + \" is \" + str(gdp))"
   ]
  },
  {
   "cell_type": "code",
   "execution_count": null,
   "id": "92ffaca3-b7b9-4acd-be9e-39dc2b406f05",
   "metadata": {},
   "outputs": [],
   "source": []
  }
 ],
 "metadata": {
  "kernelspec": {
   "display_name": "Python 3 (ipykernel)",
   "language": "python",
   "name": "python3"
  },
  "language_info": {
   "codemirror_mode": {
    "name": "ipython",
    "version": 3
   },
   "file_extension": ".py",
   "mimetype": "text/x-python",
   "name": "python",
   "nbconvert_exporter": "python",
   "pygments_lexer": "ipython3",
   "version": "3.11.10"
  }
 },
 "nbformat": 4,
 "nbformat_minor": 5
}
