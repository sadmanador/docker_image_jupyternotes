{
 "cells": [
  {
   "cell_type": "markdown",
   "id": "c7f390fb-6891-47e8-870d-61a152c627f2",
   "metadata": {},
   "source": [
    "# Pandas for tabular data structure"
   ]
  },
  {
   "cell_type": "code",
   "execution_count": null,
   "id": "4bd5c4bf-7c7a-4453-926f-dfc0a226006a",
   "metadata": {},
   "outputs": [],
   "source": []
  }
 ],
 "metadata": {
  "kernelspec": {
   "display_name": "Python 3 (ipykernel)",
   "language": "python",
   "name": "python3"
  },
  "language_info": {
   "codemirror_mode": {
    "name": "ipython",
    "version": 3
   },
   "file_extension": ".py",
   "mimetype": "text/x-python",
   "name": "python",
   "nbconvert_exporter": "python",
   "pygments_lexer": "ipython3",
   "version": "3.11.10"
  }
 },
 "nbformat": 4,
 "nbformat_minor": 5
}
