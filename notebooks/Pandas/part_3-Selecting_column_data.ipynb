{
 "cells": [
  {
   "cell_type": "code",
   "execution_count": 1,
   "id": "bf349276-8aae-4aca-9f96-9353c6702605",
   "metadata": {},
   "outputs": [],
   "source": [
    "import pandas as pd"
   ]
  },
  {
   "cell_type": "markdown",
   "id": "5c26fd5f-69b5-49b0-bc84-612be38f3069",
   "metadata": {},
   "source": [
    "# Filtering COLUMN data from the table\n",
    "* this way data type and column name is returned at the bottom"
   ]
  },
  {
   "cell_type": "code",
   "execution_count": 3,
   "id": "c839091a-7372-498e-b4cb-bcb63c2dbc53",
   "metadata": {},
   "outputs": [],
   "source": [
    "cars = pd.read_csv('cars.csv', index_col = 0)"
   ]
  },
  {
   "cell_type": "code",
   "execution_count": 4,
   "id": "24592d82-f5fe-4ad6-8ac8-9969ee7e4e5e",
   "metadata": {},
   "outputs": [
    {
     "name": "stdout",
     "output_type": "stream",
     "text": [
      "US     United States\n",
      "AUS        Australia\n",
      "JPN            Japan\n",
      "IN             India\n",
      "RU            Russia\n",
      "MOR          Morocco\n",
      "EG             Egypt\n",
      "Name: country, dtype: object\n"
     ]
    }
   ],
   "source": [
    "print(cars['country'])"
   ]
  },
  {
   "cell_type": "markdown",
   "id": "bd9863db-03c8-4801-ae09-4aa949094007",
   "metadata": {},
   "source": [
    "## Disabling the Name and dtype of the table\n",
    "* Just wrapping the selecting marker with another sets of [] will do the work"
   ]
  },
  {
   "cell_type": "code",
   "execution_count": 10,
   "id": "596f91a2-bf02-4df1-bc20-e82be5ccd740",
   "metadata": {},
   "outputs": [
    {
     "name": "stdout",
     "output_type": "stream",
     "text": [
      "           country\n",
      "US   United States\n",
      "AUS      Australia\n",
      "JPN          Japan\n",
      "IN           India\n",
      "RU          Russia\n",
      "MOR        Morocco\n",
      "EG           Egypt\n"
     ]
    }
   ],
   "source": [
    "print(cars[['country']])"
   ]
  },
  {
   "cell_type": "markdown",
   "id": "fee5c65e-38ea-47d1-9698-5e0b8b445c17",
   "metadata": {},
   "source": [
    "## Selecting multiple Column data without Name and dtype"
   ]
  },
  {
   "cell_type": "code",
   "execution_count": 8,
   "id": "ec167168-959b-45fc-966f-f3d4376c828a",
   "metadata": {},
   "outputs": [
    {
     "name": "stdout",
     "output_type": "stream",
     "text": [
      "           country  drives_right\n",
      "US   United States          True\n",
      "AUS      Australia         False\n",
      "JPN          Japan         False\n",
      "IN           India         False\n",
      "RU          Russia          True\n",
      "MOR        Morocco          True\n",
      "EG           Egypt          True\n"
     ]
    }
   ],
   "source": [
    "print(cars[['country','drives_right']])"
   ]
  },
  {
   "cell_type": "code",
   "execution_count": null,
   "id": "c366b517-462a-443c-a742-e39268a3acaa",
   "metadata": {},
   "outputs": [],
   "source": []
  }
 ],
 "metadata": {
  "kernelspec": {
   "display_name": "Python 3 (ipykernel)",
   "language": "python",
   "name": "python3"
  },
  "language_info": {
   "codemirror_mode": {
    "name": "ipython",
    "version": 3
   },
   "file_extension": ".py",
   "mimetype": "text/x-python",
   "name": "python",
   "nbconvert_exporter": "python",
   "pygments_lexer": "ipython3",
   "version": "3.11.10"
  }
 },
 "nbformat": 4,
 "nbformat_minor": 5
}
