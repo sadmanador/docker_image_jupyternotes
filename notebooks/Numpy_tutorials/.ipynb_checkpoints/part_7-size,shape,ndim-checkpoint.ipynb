{
 "cells": [
  {
   "cell_type": "code",
   "execution_count": 1,
   "id": "087243c8-59d5-46ca-bec1-f3bd2287729b",
   "metadata": {},
   "outputs": [],
   "source": [
    "import numpy as np"
   ]
  },
  {
   "cell_type": "markdown",
   "id": "e8f43b0b-f1f4-45d4-908a-109dc02b94d4",
   "metadata": {},
   "source": [
    "# Size, Shape, ndim, [...]"
   ]
  },
  {
   "cell_type": "code",
   "execution_count": 3,
   "id": "25765054-de5e-4f38-a1a4-00219b21865f",
   "metadata": {},
   "outputs": [
    {
     "data": {
      "text/plain": [
       "array([ 0,  1,  2,  3,  4,  5,  6,  7,  8,  9, 10, 11, 12, 13, 14, 15])"
      ]
     },
     "execution_count": 3,
     "metadata": {},
     "output_type": "execute_result"
    }
   ],
   "source": [
    "arr = np.arange(16)\n",
    "arr"
   ]
  },
  {
   "cell_type": "markdown",
   "id": "145f5370-2cdb-49b9-b6d9-fc01f01120da",
   "metadata": {},
   "source": [
    "## ndim returns the dimension of the array"
   ]
  },
  {
   "cell_type": "code",
   "execution_count": 4,
   "id": "38dea613-b8cc-4f45-b3fe-a1b34bef7b47",
   "metadata": {},
   "outputs": [
    {
     "data": {
      "text/plain": [
       "1"
      ]
     },
     "execution_count": 4,
     "metadata": {},
     "output_type": "execute_result"
    }
   ],
   "source": [
    "arr.ndim"
   ]
  },
  {
   "cell_type": "code",
   "execution_count": 8,
   "id": "7b5406ef-0785-4aae-8638-7fa4927861d7",
   "metadata": {},
   "outputs": [
    {
     "data": {
      "text/plain": [
       "array([[ 0,  1,  2,  3],\n",
       "       [ 4,  5,  6,  7],\n",
       "       [ 8,  9, 10, 11],\n",
       "       [12, 13, 14, 15]])"
      ]
     },
     "execution_count": 8,
     "metadata": {},
     "output_type": "execute_result"
    }
   ],
   "source": [
    "arr_2d = arr.reshape(4,4)\n",
    "arr_2d"
   ]
  },
  {
   "cell_type": "code",
   "execution_count": 9,
   "id": "2dbc2609-af78-4211-beae-61a0688eb532",
   "metadata": {},
   "outputs": [
    {
     "data": {
      "text/plain": [
       "2"
      ]
     },
     "execution_count": 9,
     "metadata": {},
     "output_type": "execute_result"
    }
   ],
   "source": [
    "arr_2d.ndim"
   ]
  },
  {
   "cell_type": "code",
   "execution_count": 11,
   "id": "cfe89820-e521-4415-8d52-77332aa61149",
   "metadata": {},
   "outputs": [
    {
     "data": {
      "text/plain": [
       "(4, 4)"
      ]
     },
     "execution_count": 11,
     "metadata": {},
     "output_type": "execute_result"
    }
   ],
   "source": [
    "arr_2d.shape"
   ]
  },
  {
   "cell_type": "code",
   "execution_count": null,
   "id": "334a9905-1249-4e3b-8eea-413603b86164",
   "metadata": {},
   "outputs": [],
   "source": [
    "### Returns item byte size"
   ]
  },
  {
   "cell_type": "code",
   "execution_count": 12,
   "id": "5c01356c-2354-4556-a487-44cdf0cb8432",
   "metadata": {},
   "outputs": [
    {
     "data": {
      "text/plain": [
       "8"
      ]
     },
     "execution_count": 12,
     "metadata": {},
     "output_type": "execute_result"
    }
   ],
   "source": [
    "arr_2d.itemsize"
   ]
  },
  {
   "cell_type": "code",
   "execution_count": null,
   "id": "ce19d40f-7d67-4459-9ab9-c38fcb8ae2ea",
   "metadata": {},
   "outputs": [],
   "source": [
    "### Returns total array size in bytes"
   ]
  },
  {
   "cell_type": "code",
   "execution_count": 15,
   "id": "d250dfba-4942-49d5-bf19-8ad4bda3813f",
   "metadata": {},
   "outputs": [
    {
     "data": {
      "text/plain": [
       "128"
      ]
     },
     "execution_count": 15,
     "metadata": {},
     "output_type": "execute_result"
    }
   ],
   "source": [
    "arr_2d.nbytes"
   ]
  },
  {
   "cell_type": "code",
   "execution_count": 14,
   "id": "ed049c09-aea5-4dba-a62b-4b0ff665da43",
   "metadata": {},
   "outputs": [
    {
     "data": {
      "text/plain": [
       "16"
      ]
     },
     "execution_count": 14,
     "metadata": {},
     "output_type": "execute_result"
    }
   ],
   "source": [
    "arr_2d.size"
   ]
  },
  {
   "cell_type": "code",
   "execution_count": 16,
   "id": "f9e83f2a-0021-422a-96d3-5685338312ea",
   "metadata": {},
   "outputs": [
    {
     "data": {
      "text/plain": [
       "dtype('int64')"
      ]
     },
     "execution_count": 16,
     "metadata": {},
     "output_type": "execute_result"
    }
   ],
   "source": [
    "arr.dtype"
   ]
  },
  {
   "cell_type": "code",
   "execution_count": null,
   "id": "49a75ca4-57e8-41db-8e31-5afd4c7c3efa",
   "metadata": {},
   "outputs": [],
   "source": []
  }
 ],
 "metadata": {
  "kernelspec": {
   "display_name": "Python 3 (ipykernel)",
   "language": "python",
   "name": "python3"
  },
  "language_info": {
   "codemirror_mode": {
    "name": "ipython",
    "version": 3
   },
   "file_extension": ".py",
   "mimetype": "text/x-python",
   "name": "python",
   "nbconvert_exporter": "python",
   "pygments_lexer": "ipython3",
   "version": "3.11.10"
  }
 },
 "nbformat": 4,
 "nbformat_minor": 5
}
