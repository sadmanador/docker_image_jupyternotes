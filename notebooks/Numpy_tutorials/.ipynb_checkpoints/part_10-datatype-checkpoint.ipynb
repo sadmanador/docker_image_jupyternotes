{
 "cells": [
  {
   "cell_type": "code",
   "execution_count": 1,
   "id": "11226309-aeb5-4663-ace3-56d284c9fecd",
   "metadata": {},
   "outputs": [],
   "source": [
    "import numpy as np"
   ]
  },
  {
   "cell_type": "markdown",
   "id": "d56a8c36-6e99-43b4-9843-ea8a7d0cd714",
   "metadata": {},
   "source": [
    "# Type casting with data type"
   ]
  },
  {
   "cell_type": "code",
   "execution_count": 2,
   "id": "9cf012c1-27aa-4a8e-a12c-f58c4e99055f",
   "metadata": {},
   "outputs": [
    {
     "data": {
      "text/plain": [
       "array([1, 0, 1, 1, 0], dtype=int32)"
      ]
     },
     "execution_count": 2,
     "metadata": {},
     "output_type": "execute_result"
    }
   ],
   "source": [
    "boolean_array = np.array([True, False, True, True, False])\n",
    "boolean_array.astype(np.int32)"
   ]
  },
  {
   "cell_type": "code",
   "execution_count": 7,
   "id": "175608a2-5d4f-4011-a7f6-ee502192f2c1",
   "metadata": {},
   "outputs": [
    {
     "data": {
      "text/plain": [
       "array([ 1,  2,  3,  4,  5,  6,  7,  8,  9, 10, 11, 12, 13, 14])"
      ]
     },
     "execution_count": 7,
     "metadata": {},
     "output_type": "execute_result"
    }
   ],
   "source": [
    "num_array = np.arange(1,15)\n",
    "num_array"
   ]
  },
  {
   "cell_type": "code",
   "execution_count": 8,
   "id": "c4581fe3-9008-4bfa-9db9-5f13a38f4db9",
   "metadata": {},
   "outputs": [
    {
     "data": {
      "text/plain": [
       "array([ 1.,  2.,  3.,  4.,  5.,  6.,  7.,  8.,  9., 10., 11., 12., 13.,\n",
       "       14.])"
      ]
     },
     "execution_count": 8,
     "metadata": {},
     "output_type": "execute_result"
    }
   ],
   "source": [
    "num_array.astype(np.float64)"
   ]
  },
  {
   "cell_type": "code",
   "execution_count": 11,
   "id": "edc6e229-fca4-4bac-b34a-3a2a27134685",
   "metadata": {},
   "outputs": [
    {
     "data": {
      "text/plain": [
       "dtype('int64')"
      ]
     },
     "execution_count": 11,
     "metadata": {},
     "output_type": "execute_result"
    }
   ],
   "source": [
    "num_array.dtype"
   ]
  },
  {
   "cell_type": "code",
   "execution_count": 12,
   "id": "84328b14-cc6d-46e1-930a-89e6eb8cfbaa",
   "metadata": {},
   "outputs": [
    {
     "data": {
      "text/plain": [
       "dtype('bool')"
      ]
     },
     "execution_count": 12,
     "metadata": {},
     "output_type": "execute_result"
    }
   ],
   "source": [
    "boolean_array.dtype"
   ]
  },
  {
   "cell_type": "code",
   "execution_count": null,
   "id": "18f24a59-f8be-433c-ae4f-d625453ba5e0",
   "metadata": {},
   "outputs": [],
   "source": []
  }
 ],
 "metadata": {
  "kernelspec": {
   "display_name": "Python 3 (ipykernel)",
   "language": "python",
   "name": "python3"
  },
  "language_info": {
   "codemirror_mode": {
    "name": "ipython",
    "version": 3
   },
   "file_extension": ".py",
   "mimetype": "text/x-python",
   "name": "python",
   "nbconvert_exporter": "python",
   "pygments_lexer": "ipython3",
   "version": "3.11.10"
  }
 },
 "nbformat": 4,
 "nbformat_minor": 5
}
