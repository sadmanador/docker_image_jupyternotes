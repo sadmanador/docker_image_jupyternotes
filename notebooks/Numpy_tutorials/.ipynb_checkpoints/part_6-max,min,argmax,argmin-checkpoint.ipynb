{
 "cells": [
  {
   "cell_type": "code",
   "execution_count": 1,
   "id": "4d2903ef-757f-430c-b195-bf939d195d74",
   "metadata": {},
   "outputs": [],
   "source": [
    "import numpy as np"
   ]
  },
  {
   "cell_type": "markdown",
   "id": "04782cfb-26dd-4a27-be93-8b07f79c30e0",
   "metadata": {},
   "source": [
    "# Max, Min, ArgMax & ArgMin"
   ]
  },
  {
   "cell_type": "code",
   "execution_count": 4,
   "id": "70e3e5c5-81c9-42e0-9c95-18e4082e7ac9",
   "metadata": {},
   "outputs": [
    {
     "data": {
      "text/plain": [
       "array([64, 14, 55, 95, 95, 90, 12, 98, 18, 89])"
      ]
     },
     "execution_count": 4,
     "metadata": {},
     "output_type": "execute_result"
    }
   ],
   "source": [
    "arr_rand = np.random.randint(1,100,10)\n",
    "arr_rand"
   ]
  },
  {
   "cell_type": "code",
   "execution_count": 6,
   "id": "9bcb50b5-4122-463f-8a11-952e02fffe74",
   "metadata": {},
   "outputs": [
    {
     "data": {
      "text/plain": [
       "np.int64(98)"
      ]
     },
     "execution_count": 6,
     "metadata": {},
     "output_type": "execute_result"
    }
   ],
   "source": [
    "arr_rand.max()"
   ]
  },
  {
   "cell_type": "code",
   "execution_count": 7,
   "id": "d5f8ad4a-3e26-4515-ba8c-ddb8ae78c635",
   "metadata": {},
   "outputs": [
    {
     "data": {
      "text/plain": [
       "np.int64(12)"
      ]
     },
     "execution_count": 7,
     "metadata": {},
     "output_type": "execute_result"
    }
   ],
   "source": [
    "arr_rand.min()"
   ]
  },
  {
   "cell_type": "code",
   "execution_count": 11,
   "id": "3dfe3465-8457-447e-acd4-7c22f8bfb6af",
   "metadata": {},
   "outputs": [
    {
     "data": {
      "text/plain": [
       "np.int64(7)"
      ]
     },
     "execution_count": 11,
     "metadata": {},
     "output_type": "execute_result"
    }
   ],
   "source": [
    "arr_rand.argmax()"
   ]
  },
  {
   "cell_type": "code",
   "execution_count": 9,
   "id": "aa67a0b4-3908-416a-8abd-6acb34b9a119",
   "metadata": {},
   "outputs": [
    {
     "data": {
      "text/plain": [
       "np.int64(6)"
      ]
     },
     "execution_count": 9,
     "metadata": {},
     "output_type": "execute_result"
    }
   ],
   "source": [
    "arr_rand.argmin()"
   ]
  },
  {
   "cell_type": "code",
   "execution_count": null,
   "id": "e070a8c6-9f9a-49a9-aaca-1003b7860980",
   "metadata": {},
   "outputs": [],
   "source": []
  }
 ],
 "metadata": {
  "kernelspec": {
   "display_name": "Python 3 (ipykernel)",
   "language": "python",
   "name": "python3"
  },
  "language_info": {
   "codemirror_mode": {
    "name": "ipython",
    "version": 3
   },
   "file_extension": ".py",
   "mimetype": "text/x-python",
   "name": "python",
   "nbconvert_exporter": "python",
   "pygments_lexer": "ipython3",
   "version": "3.11.10"
  }
 },
 "nbformat": 4,
 "nbformat_minor": 5
}
