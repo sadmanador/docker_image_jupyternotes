{
 "cells": [
  {
   "cell_type": "code",
   "execution_count": 1,
   "id": "c18f3561-7516-4709-bdc9-6afb8e4bc3b0",
   "metadata": {},
   "outputs": [],
   "source": [
    "import numpy as np"
   ]
  },
  {
   "cell_type": "markdown",
   "id": "7eb9da4e-3c2a-424b-b958-4ed9061f3123",
   "metadata": {},
   "source": [
    "# Adding and removing data"
   ]
  },
  {
   "cell_type": "code",
   "execution_count": 4,
   "id": "ccc9ea41-15cd-4448-8198-0b53e71ba047",
   "metadata": {},
   "outputs": [],
   "source": [
    "classroom_ids_and_sizes = np.array([[1,22],[2,21],[3,27],[4,26]])\n",
    "new_classrooms = np.array([[5,30],[5,17]])"
   ]
  },
  {
   "cell_type": "code",
   "execution_count": 5,
   "id": "06ff84f4-aa1b-4712-bab7-824698748e85",
   "metadata": {},
   "outputs": [
    {
     "data": {
      "text/plain": [
       "array([[ 1, 22],\n",
       "       [ 2, 21],\n",
       "       [ 3, 27],\n",
       "       [ 4, 26],\n",
       "       [ 5, 30],\n",
       "       [ 5, 17]])"
      ]
     },
     "execution_count": 5,
     "metadata": {},
     "output_type": "execute_result"
    }
   ],
   "source": [
    "np.concatenate((classroom_ids_and_sizes, new_classrooms))"
   ]
  },
  {
   "cell_type": "code",
   "execution_count": null,
   "id": "84b51cf8-4374-4dda-a3b5-ed3908402da0",
   "metadata": {},
   "outputs": [],
   "source": []
  }
 ],
 "metadata": {
  "kernelspec": {
   "display_name": "Python 3 (ipykernel)",
   "language": "python",
   "name": "python3"
  },
  "language_info": {
   "codemirror_mode": {
    "name": "ipython",
    "version": 3
   },
   "file_extension": ".py",
   "mimetype": "text/x-python",
   "name": "python",
   "nbconvert_exporter": "python",
   "pygments_lexer": "ipython3",
   "version": "3.11.10"
  }
 },
 "nbformat": 4,
 "nbformat_minor": 5
}
