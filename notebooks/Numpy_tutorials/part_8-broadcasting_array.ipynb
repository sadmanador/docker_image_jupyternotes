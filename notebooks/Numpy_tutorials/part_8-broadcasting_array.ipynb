{
 "cells": [
  {
   "cell_type": "code",
   "execution_count": 1,
   "id": "f3c077d2-9485-4d09-a44d-62803338f9a0",
   "metadata": {},
   "outputs": [],
   "source": [
    "import numpy as np"
   ]
  },
  {
   "cell_type": "markdown",
   "id": "50c9f032-cd83-4104-b21f-0dfcf787807c",
   "metadata": {},
   "source": [
    "# Broadcasting array"
   ]
  },
  {
   "cell_type": "markdown",
   "id": "1ad0ae27-ecbd-4440-9512-05ba8842412e",
   "metadata": {},
   "source": [
    "Broadcasting helps to change multiple items"
   ]
  },
  {
   "cell_type": "code",
   "execution_count": 2,
   "id": "f20df1dc-e6ca-4cf7-8700-cd2aa4f19f96",
   "metadata": {},
   "outputs": [
    {
     "data": {
      "text/plain": [
       "array([0, 1, 2, 3, 4, 5, 6, 7, 8, 9])"
      ]
     },
     "execution_count": 2,
     "metadata": {},
     "output_type": "execute_result"
    }
   ],
   "source": [
    "array_1d = np.arange(10)\n",
    "array_1d"
   ]
  },
  {
   "cell_type": "code",
   "execution_count": 4,
   "id": "24d14418-cde4-42ba-afea-8132f7f80776",
   "metadata": {},
   "outputs": [
    {
     "data": {
      "text/plain": [
       "array([500, 500, 500, 500, 500,   5,   6,   7,   8,   9])"
      ]
     },
     "execution_count": 4,
     "metadata": {},
     "output_type": "execute_result"
    }
   ],
   "source": [
    "array_1d[0:5] = 500\n",
    "array_1d"
   ]
  },
  {
   "cell_type": "code",
   "execution_count": 6,
   "id": "5d76b080-8426-47ac-bfc4-7c32c98f1cb3",
   "metadata": {},
   "outputs": [
    {
     "data": {
      "text/plain": [
       "array([[1, 1, 1, 1, 1],\n",
       "       [1, 1, 1, 1, 1],\n",
       "       [1, 1, 1, 1, 1],\n",
       "       [1, 1, 1, 1, 1],\n",
       "       [1, 1, 1, 1, 1],\n",
       "       [1, 1, 1, 1, 1]])"
      ]
     },
     "execution_count": 6,
     "metadata": {},
     "output_type": "execute_result"
    }
   ],
   "source": [
    "array_2d = np.ones((6,5), dtype=\"int64\")\n",
    "array_2d"
   ]
  },
  {
   "cell_type": "code",
   "execution_count": 7,
   "id": "ce5cc171-7040-4738-ae31-475c7dddbb81",
   "metadata": {},
   "outputs": [
    {
     "data": {
      "text/plain": [
       "array([[255, 255, 255, 255, 255],\n",
       "       [  1,   1,   1,   1,   1],\n",
       "       [  1,   1,   1,   1,   1],\n",
       "       [  1,   1,   1,   1,   1],\n",
       "       [  1,   1,   1,   1,   1],\n",
       "       [  1,   1,   1,   1,   1]])"
      ]
     },
     "execution_count": 7,
     "metadata": {},
     "output_type": "execute_result"
    }
   ],
   "source": [
    "array_2d[0] = 255\n",
    "array_2d"
   ]
  },
  {
   "cell_type": "code",
   "execution_count": 8,
   "id": "e6b546b3-9911-4c2c-912f-97b36a2c37e5",
   "metadata": {},
   "outputs": [
    {
     "data": {
      "text/plain": [
       "array([[500, 500, 500, 500, 500],\n",
       "       [246, 246, 246, 246, 246],\n",
       "       [246, 246, 246, 246, 246],\n",
       "       [246, 246, 246, 246, 246],\n",
       "       [246, 246, 246, 246, 246],\n",
       "       [246, 246, 246, 246, 246]])"
      ]
     },
     "execution_count": 8,
     "metadata": {},
     "output_type": "execute_result"
    }
   ],
   "source": [
    "array_2d + 245"
   ]
  },
  {
   "cell_type": "code",
   "execution_count": 12,
   "id": "0a9ecd06-7930-4bf5-828f-334402c8df51",
   "metadata": {},
   "outputs": [
    {
     "name": "stdout",
     "output_type": "stream",
     "text": [
      "First Array\n",
      "[[ 0.  0.  0.  0.]\n",
      " [10. 10. 10. 10.]\n",
      " [20. 20. 20. 20.]\n",
      " [30. 30. 30. 30.]]\n",
      "\n",
      "\n",
      "Second Array\n",
      "[1. 2. 3. 4.]\n",
      "\n",
      "\n",
      "First array + second array\n",
      "[[ 1.  2.  3.  4.]\n",
      " [11. 12. 13. 14.]\n",
      " [21. 22. 23. 24.]\n",
      " [31. 32. 33. 34.]]\n"
     ]
    }
   ],
   "source": [
    "import numpy as np\n",
    "\n",
    "\n",
    "a = np.array([np.zeros(4), np.full(4, 10), np.full(4, 20), np.full(4, 30)])\n",
    "print(\"First Array\")\n",
    "print(a)\n",
    "print('\\n')\n",
    "\n",
    "\n",
    "b = np.array([1.0,2.0,3.0,4.0])\n",
    "print(\"Second Array\")\n",
    "print(b)\n",
    "print('\\n')\n",
    "\n",
    "print(\"First array + second array\")\n",
    "print(a + b)"
   ]
  },
  {
   "cell_type": "code",
   "execution_count": null,
   "id": "51b712cd-3dc8-4b05-8e3c-dd5905b115e4",
   "metadata": {},
   "outputs": [],
   "source": []
  }
 ],
 "metadata": {
  "kernelspec": {
   "display_name": "Python 3 (ipykernel)",
   "language": "python",
   "name": "python3"
  },
  "language_info": {
   "codemirror_mode": {
    "name": "ipython",
    "version": 3
   },
   "file_extension": ".py",
   "mimetype": "text/x-python",
   "name": "python",
   "nbconvert_exporter": "python",
   "pygments_lexer": "ipython3",
   "version": "3.11.10"
  }
 },
 "nbformat": 4,
 "nbformat_minor": 5
}
