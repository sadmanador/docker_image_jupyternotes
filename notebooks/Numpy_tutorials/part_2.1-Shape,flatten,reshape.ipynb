{
 "cells": [
  {
   "cell_type": "code",
   "execution_count": 1,
   "id": "ae3892fa-e029-4060-b2d4-0b36656004c9",
   "metadata": {},
   "outputs": [],
   "source": [
    "import numpy as np"
   ]
  },
  {
   "cell_type": "markdown",
   "id": "41e03f7f-1dc2-46d0-be83-3cb943df39c3",
   "metadata": {},
   "source": [
    "# \"Shape\" describes the shape on an array."
   ]
  },
  {
   "cell_type": "code",
   "execution_count": 6,
   "id": "ebd19125-bfed-435b-8107-8b2d32b61b7d",
   "metadata": {},
   "outputs": [
    {
     "data": {
      "text/plain": [
       "(2, 3)"
      ]
     },
     "execution_count": 6,
     "metadata": {},
     "output_type": "execute_result"
    }
   ],
   "source": [
    "np_array = np.zeros((2,3), dtype='int32')\n",
    "np_array.shape"
   ]
  },
  {
   "cell_type": "markdown",
   "id": "02f6831b-08f3-4b94-b3a9-e0ac27da5e3f",
   "metadata": {},
   "source": [
    "# \"Flatten\" helps to convert the multi dimensional array into single dimensional one"
   ]
  },
  {
   "cell_type": "code",
   "execution_count": 8,
   "id": "27e65c0a-4703-4963-8504-d9829e004305",
   "metadata": {},
   "outputs": [
    {
     "data": {
      "text/plain": [
       "array([[1, 2],\n",
       "       [3, 4],\n",
       "       [5, 6],\n",
       "       [7, 8]])"
      ]
     },
     "execution_count": 8,
     "metadata": {},
     "output_type": "execute_result"
    }
   ],
   "source": [
    "num_array = np.array([[1,2],[3,4],[5,6],[7,8]])\n",
    "num_array"
   ]
  },
  {
   "cell_type": "code",
   "execution_count": 9,
   "id": "0e826ec9-80e4-4887-a7f7-770b08799934",
   "metadata": {},
   "outputs": [
    {
     "data": {
      "text/plain": [
       "array([1, 2, 3, 4, 5, 6, 7, 8])"
      ]
     },
     "execution_count": 9,
     "metadata": {},
     "output_type": "execute_result"
    }
   ],
   "source": [
    "num_array.flatten()"
   ]
  },
  {
   "cell_type": "markdown",
   "id": "6ca66e4e-4f14-4f13-bde2-322e9982d841",
   "metadata": {},
   "source": [
    "# \"Reshape\" can reshape the 1d array into 2d array"
   ]
  },
  {
   "cell_type": "code",
   "execution_count": 13,
   "id": "070fe913-4057-44ff-b474-393c46c2bb47",
   "metadata": {},
   "outputs": [
    {
     "data": {
      "text/plain": [
       "array([[1, 2, 3, 4],\n",
       "       [5, 6, 7, 8]])"
      ]
     },
     "execution_count": 13,
     "metadata": {},
     "output_type": "execute_result"
    }
   ],
   "source": [
    "num_array.reshape((2,4))"
   ]
  }
 ],
 "metadata": {
  "kernelspec": {
   "display_name": "Python 3 (ipykernel)",
   "language": "python",
   "name": "python3"
  },
  "language_info": {
   "codemirror_mode": {
    "name": "ipython",
    "version": 3
   },
   "file_extension": ".py",
   "mimetype": "text/x-python",
   "name": "python",
   "nbconvert_exporter": "python",
   "pygments_lexer": "ipython3",
   "version": "3.11.10"
  }
 },
 "nbformat": 4,
 "nbformat_minor": 5
}
