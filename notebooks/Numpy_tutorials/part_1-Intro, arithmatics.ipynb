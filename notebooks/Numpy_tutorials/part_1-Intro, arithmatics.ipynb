{
 "cells": [
  {
   "cell_type": "markdown",
   "id": "7f5b6761-6235-424a-8783-da5fd1ad1512",
   "metadata": {},
   "source": [
    "# Numpy import and using"
   ]
  },
  {
   "cell_type": "code",
   "execution_count": 1,
   "id": "ef599b02-0971-4e71-9895-ee27a9ded4a3",
   "metadata": {},
   "outputs": [],
   "source": [
    "import numpy as np"
   ]
  },
  {
   "cell_type": "code",
   "execution_count": 14,
   "id": "25b32bd0-66dd-4cde-9eb4-3ae21db399c3",
   "metadata": {},
   "outputs": [
    {
     "data": {
      "text/plain": [
       "'2.1.1'"
      ]
     },
     "execution_count": 14,
     "metadata": {},
     "output_type": "execute_result"
    }
   ],
   "source": [
    "np.__version__"
   ]
  },
  {
   "cell_type": "code",
   "execution_count": null,
   "id": "97c84f6a-5836-4153-b134-d477656cb6ca",
   "metadata": {
    "jupyter": {
     "source_hidden": true
    }
   },
   "outputs": [],
   "source": [
    "my_list=[1,2,3,4,5]"
   ]
  },
  {
   "cell_type": "code",
   "execution_count": 27,
   "id": "aab2a986-6791-4d12-b352-8117c56bf1dd",
   "metadata": {},
   "outputs": [
    {
     "data": {
      "text/plain": [
       "[1, 2, 3, 4, 5]"
      ]
     },
     "execution_count": 27,
     "metadata": {},
     "output_type": "execute_result"
    }
   ],
   "source": [
    "my_list"
   ]
  },
  {
   "cell_type": "code",
   "execution_count": 28,
   "id": "6a297c7a-0263-4a5d-bb6f-950eb09ad943",
   "metadata": {},
   "outputs": [
    {
     "data": {
      "text/plain": [
       "array([1, 2, 3, 4, 5])"
      ]
     },
     "execution_count": 28,
     "metadata": {},
     "output_type": "execute_result"
    }
   ],
   "source": [
    "np_list = np.array(my_list)\n",
    "np_list"
   ]
  },
  {
   "cell_type": "markdown",
   "id": "e8479c27-0d6b-4fe3-9411-ee261037944c",
   "metadata": {},
   "source": [
    "## These are line magic command"
   ]
  },
  {
   "cell_type": "code",
   "execution_count": 12,
   "id": "f601fab8-8ba2-49b6-9fd2-86c56f0fd4a3",
   "metadata": {},
   "outputs": [
    {
     "name": "stdout",
     "output_type": "stream",
     "text": [
      "Package                   Version\n",
      "------------------------- --------------\n",
      "anyio                     4.4.0\n",
      "argon2-cffi               23.1.0\n",
      "argon2-cffi-bindings      21.2.0\n",
      "arrow                     1.3.0\n",
      "asttokens                 2.4.1\n",
      "async-lru                 2.0.4\n",
      "attrs                     24.2.0\n",
      "babel                     2.16.0\n",
      "beautifulsoup4            4.12.3\n",
      "bleach                    6.1.0\n",
      "certifi                   2024.8.30\n",
      "cffi                      1.17.1\n",
      "charset-normalizer        3.3.2\n",
      "comm                      0.2.2\n",
      "debugpy                   1.8.5\n",
      "decorator                 5.1.1\n",
      "defusedxml                0.7.1\n",
      "executing                 2.1.0\n",
      "fastjsonschema            2.20.0\n",
      "fqdn                      1.5.1\n",
      "h11                       0.14.0\n",
      "httpcore                  1.0.5\n",
      "httpx                     0.27.2\n",
      "idna                      3.10\n",
      "ipykernel                 6.29.5\n",
      "ipython                   8.27.0\n",
      "isoduration               20.11.0\n",
      "jedi                      0.19.1\n",
      "Jinja2                    3.1.4\n",
      "json5                     0.9.25\n",
      "jsonpointer               3.0.0\n",
      "jsonschema                4.23.0\n",
      "jsonschema-specifications 2023.12.1\n",
      "jupyter_client            8.6.3\n",
      "jupyter_core              5.7.2\n",
      "jupyter-events            0.10.0\n",
      "jupyter-lsp               2.2.5\n",
      "jupyter_server            2.14.2\n",
      "jupyter_server_terminals  0.5.3\n",
      "jupyterlab                4.2.5\n",
      "jupyterlab_pygments       0.3.0\n",
      "jupyterlab_server         2.27.3\n",
      "MarkupSafe                2.1.5\n",
      "matplotlib-inline         0.1.7\n",
      "mistune                   3.0.2\n",
      "nbclient                  0.10.0\n",
      "nbconvert                 7.16.4\n",
      "nbformat                  5.10.4\n",
      "nest-asyncio              1.6.0\n",
      "notebook                  7.2.2\n",
      "notebook_shim             0.2.4\n",
      "numpy                     2.1.1\n",
      "overrides                 7.7.0\n",
      "packaging                 24.1\n",
      "pandocfilters             1.5.1\n",
      "parso                     0.8.4\n",
      "pexpect                   4.9.0\n",
      "pip                       24.0\n",
      "platformdirs              4.3.6\n",
      "prometheus_client         0.20.0\n",
      "prompt_toolkit            3.0.47\n",
      "psutil                    6.0.0\n",
      "ptyprocess                0.7.0\n",
      "pure_eval                 0.2.3\n",
      "pycparser                 2.22\n",
      "Pygments                  2.18.0\n",
      "python-dateutil           2.9.0.post0\n",
      "python-json-logger        2.0.7\n",
      "PyYAML                    6.0.2\n",
      "pyzmq                     26.2.0\n",
      "referencing               0.35.1\n",
      "requests                  2.32.3\n",
      "rfc3339-validator         0.1.4\n",
      "rfc3986-validator         0.1.1\n",
      "rpds-py                   0.20.0\n",
      "Send2Trash                1.8.3\n",
      "setuptools                65.5.1\n",
      "six                       1.16.0\n",
      "sniffio                   1.3.1\n",
      "soupsieve                 2.6\n",
      "stack-data                0.6.3\n",
      "terminado                 0.18.1\n",
      "tinycss2                  1.3.0\n",
      "tornado                   6.4.1\n",
      "traitlets                 5.14.3\n",
      "types-python-dateutil     2.9.0.20240906\n",
      "typing_extensions         4.12.2\n",
      "uri-template              1.3.0\n",
      "urllib3                   2.2.3\n",
      "wcwidth                   0.2.13\n",
      "webcolors                 24.8.0\n",
      "webencodings              0.5.1\n",
      "websocket-client          1.8.0\n",
      "wheel                     0.44.0\n",
      "\n",
      "\u001b[1m[\u001b[0m\u001b[34;49mnotice\u001b[0m\u001b[1;39;49m]\u001b[0m\u001b[39;49m A new release of pip is available: \u001b[0m\u001b[31;49m24.0\u001b[0m\u001b[39;49m -> \u001b[0m\u001b[32;49m24.2\u001b[0m\n",
      "\u001b[1m[\u001b[0m\u001b[34;49mnotice\u001b[0m\u001b[1;39;49m]\u001b[0m\u001b[39;49m To update, run: \u001b[0m\u001b[32;49mpip install --upgrade pip\u001b[0m\n"
     ]
    }
   ],
   "source": [
    "!pip list"
   ]
  },
  {
   "cell_type": "markdown",
   "id": "526c7b10-0cb9-4a91-be94-fc5525392b51",
   "metadata": {},
   "source": [
    "## This is command line command"
   ]
  },
  {
   "cell_type": "code",
   "execution_count": 13,
   "id": "90cc23ea-33ee-460c-8a4f-92271401540f",
   "metadata": {},
   "outputs": [
    {
     "data": {
      "text/plain": [
       "'/home/jovyan/work/Numpy_tutorials'"
      ]
     },
     "execution_count": 13,
     "metadata": {},
     "output_type": "execute_result"
    }
   ],
   "source": [
    "%pwd"
   ]
  },
  {
   "cell_type": "markdown",
   "id": "15a380d9-0a15-4aad-b579-6e50aeb9a0ae",
   "metadata": {},
   "source": [
    "## Normal list arithmetics"
   ]
  },
  {
   "cell_type": "code",
   "execution_count": 4,
   "id": "c95f9da7-85b1-4c4f-b091-595db4a5c2c0",
   "metadata": {},
   "outputs": [
    {
     "data": {
      "text/plain": [
       "[1, 2, 3, 4, 5, 6, 1, 2, 3, 4, 5, 6]"
      ]
     },
     "execution_count": 4,
     "metadata": {},
     "output_type": "execute_result"
    }
   ],
   "source": [
    "list1 =[1,2,3,4,5,6]\n",
    "list2=[1,2,3,4,5,6]\n",
    "list3 = list1 + list2\n",
    "list3"
   ]
  },
  {
   "cell_type": "markdown",
   "id": "9752632f-4b99-4ac4-aa4c-e28151c07a0d",
   "metadata": {},
   "source": [
    "## Numpy solves this problem with arithmetical operation directly with two arrays"
   ]
  },
  {
   "cell_type": "code",
   "execution_count": 6,
   "id": "a5727be6-b716-46f4-81d4-5a650a1b7c65",
   "metadata": {},
   "outputs": [
    {
     "data": {
      "text/plain": [
       "array([ 1,  4,  9, 16, 25, 36])"
      ]
     },
     "execution_count": 6,
     "metadata": {},
     "output_type": "execute_result"
    }
   ],
   "source": [
    "np_array1 = np.array(list1)\n",
    "np_array2 = np.array(list2)\n",
    "np_array1 * np_array2"
   ]
  },
  {
   "cell_type": "code",
   "execution_count": 32,
   "id": "a3029522-6ef2-4dae-8bcd-8840110883ea",
   "metadata": {},
   "outputs": [
    {
     "data": {
      "text/plain": [
       "array([ 2,  6, 12, 20, 30, 42])"
      ]
     },
     "execution_count": 32,
     "metadata": {},
     "output_type": "execute_result"
    }
   ],
   "source": [
    "np_array3 = np_array1 + np_array2 ** 2\n",
    "np_array3"
   ]
  },
  {
   "cell_type": "code",
   "execution_count": 33,
   "id": "dcf5fe6a-17f2-4a83-afc0-6902c31079bb",
   "metadata": {},
   "outputs": [
    {
     "data": {
      "text/plain": [
       "numpy.ndarray"
      ]
     },
     "execution_count": 33,
     "metadata": {},
     "output_type": "execute_result"
    }
   ],
   "source": [
    "type(np_array3)"
   ]
  },
  {
   "cell_type": "markdown",
   "id": "4487b9a1-8be1-418f-8df9-1364cd2f41fd",
   "metadata": {},
   "source": [
    "# Metrix\n",
    "### Metrix are whose array, that are two dimensional"
   ]
  },
  {
   "cell_type": "code",
   "execution_count": 34,
   "id": "b14bc0c7-6926-4ee0-b621-bae938a22d79",
   "metadata": {},
   "outputs": [
    {
     "data": {
      "text/plain": [
       "[[1, 2, 3], [4, 5, 6], [7, 8, 9]]"
      ]
     },
     "execution_count": 34,
     "metadata": {},
     "output_type": "execute_result"
    }
   ],
   "source": [
    "matrix_array = [[1,2,3],[4,5,6],[7,8,9]]\n",
    "matrix_array"
   ]
  },
  {
   "cell_type": "code",
   "execution_count": 36,
   "id": "16adeda8-f15c-4500-9274-fbb0f1bc88bc",
   "metadata": {},
   "outputs": [
    {
     "data": {
      "text/plain": [
       "array([[1, 2, 3],\n",
       "       [4, 5, 6],\n",
       "       [7, 8, 9]])"
      ]
     },
     "execution_count": 36,
     "metadata": {},
     "output_type": "execute_result"
    }
   ],
   "source": [
    "np_matrix_array = np.array(matrix_array)\n",
    "np_matrix_array"
   ]
  },
  {
   "cell_type": "code",
   "execution_count": 37,
   "id": "a80846f0-9fe6-4f25-97bb-815b2f740888",
   "metadata": {},
   "outputs": [
    {
     "data": {
      "text/plain": [
       "np.int64(5)"
      ]
     },
     "execution_count": 37,
     "metadata": {},
     "output_type": "execute_result"
    }
   ],
   "source": [
    "np_matrix_array[1][1]"
   ]
  },
  {
   "cell_type": "markdown",
   "id": "dbd65d1e-fed3-44b9-8933-821c14224834",
   "metadata": {},
   "source": [
    "## 3D array"
   ]
  },
  {
   "cell_type": "code",
   "execution_count": 38,
   "id": "96582b95-1018-4cd3-9c2d-ac682d74e9af",
   "metadata": {},
   "outputs": [],
   "source": [
    "np_3d_list = np.array([[[1, 2, 3], \n",
    "                        [4, 5, 6], \n",
    "                        [7, 8, 9]],\n",
    "                       \n",
    "                       [[10, 11, 12], \n",
    "                        [13, 14, 15], \n",
    "                        [16, 17, 18]],\n",
    "                       \n",
    "                       [[19, 20, 21], \n",
    "                        [22, 23, 24], \n",
    "                        [25, 26, 27]]])"
   ]
  },
  {
   "cell_type": "code",
   "execution_count": 39,
   "id": "d28e4c72-1fc2-4f23-b161-5cb4dbdd8403",
   "metadata": {},
   "outputs": [
    {
     "data": {
      "text/plain": [
       "np.int64(15)"
      ]
     },
     "execution_count": 39,
     "metadata": {},
     "output_type": "execute_result"
    }
   ],
   "source": [
    "np_3d_list[1][1][-1]"
   ]
  },
  {
   "cell_type": "code",
   "execution_count": null,
   "id": "5174c4cb-81b6-4b35-a26d-1c8026d01b8c",
   "metadata": {},
   "outputs": [],
   "source": []
  }
 ],
 "metadata": {
  "kernelspec": {
   "display_name": "Python 3 (ipykernel)",
   "language": "python",
   "name": "python3"
  },
  "language_info": {
   "codemirror_mode": {
    "name": "ipython",
    "version": 3
   },
   "file_extension": ".py",
   "mimetype": "text/x-python",
   "name": "python",
   "nbconvert_exporter": "python",
   "pygments_lexer": "ipython3",
   "version": "3.11.10"
  }
 },
 "nbformat": 4,
 "nbformat_minor": 5
}
