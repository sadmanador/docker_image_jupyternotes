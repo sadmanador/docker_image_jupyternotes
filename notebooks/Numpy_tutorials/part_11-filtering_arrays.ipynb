{
 "cells": [
  {
   "cell_type": "code",
   "execution_count": 1,
   "id": "45f7d51e-9d7a-4d16-b918-66131e1e88f5",
   "metadata": {},
   "outputs": [],
   "source": [
    "import numpy as np"
   ]
  },
  {
   "cell_type": "markdown",
   "id": "001b46b6-3c70-46f6-b950-3f79105fc5e4",
   "metadata": {},
   "source": [
    "# Filtering Arrays"
   ]
  },
  {
   "cell_type": "code",
   "execution_count": 3,
   "id": "fec85d77-c050-446d-bd8e-cd2cf55b16c7",
   "metadata": {},
   "outputs": [
    {
     "data": {
      "text/plain": [
       "array([1, 2, 3, 4, 5])"
      ]
     },
     "execution_count": 3,
     "metadata": {},
     "output_type": "execute_result"
    }
   ],
   "source": [
    "one_to_five = np.array([1,2,3,4,5])\n",
    "one_to_five"
   ]
  },
  {
   "cell_type": "code",
   "execution_count": 4,
   "id": "48ac85af-4a63-482b-9b9e-d9a4712fb433",
   "metadata": {},
   "outputs": [
    {
     "data": {
      "text/plain": [
       "array([False,  True, False,  True, False])"
      ]
     },
     "execution_count": 4,
     "metadata": {},
     "output_type": "execute_result"
    }
   ],
   "source": [
    "mask = one_to_five % 2 == 0\n",
    "mask"
   ]
  },
  {
   "cell_type": "markdown",
   "id": "f2d60625-fa77-4bba-bfe4-8a7fd407c236",
   "metadata": {},
   "source": [
    "# Fancy indexing\n",
    "Indexing the array using the mask array"
   ]
  },
  {
   "cell_type": "code",
   "execution_count": 5,
   "id": "3c090326-b0a3-4678-ac66-f24a9af6c10d",
   "metadata": {},
   "outputs": [
    {
     "data": {
      "text/plain": [
       "array([2, 4])"
      ]
     },
     "execution_count": 5,
     "metadata": {},
     "output_type": "execute_result"
    }
   ],
   "source": [
    "one_to_five[mask]"
   ]
  },
  {
   "cell_type": "markdown",
   "id": "5f35e91c-2f7e-4d25-82c4-0893d0ef8efc",
   "metadata": {},
   "source": [
    "# ClassId and ClassSize"
   ]
  },
  {
   "cell_type": "code",
   "execution_count": 7,
   "id": "15125b8f-28d5-43e9-91ed-972ef972da9b",
   "metadata": {},
   "outputs": [
    {
     "data": {
      "text/plain": [
       "array([[ 1, 22],\n",
       "       [ 2, 21],\n",
       "       [ 3, 27],\n",
       "       [ 4, 26]])"
      ]
     },
     "execution_count": 7,
     "metadata": {},
     "output_type": "execute_result"
    }
   ],
   "source": [
    "classroom_ids_and_sizes = np.array([[1,22],[2,21],[3,27],[4,26]])\n",
    "classroom_ids_and_sizes"
   ]
  },
  {
   "cell_type": "code",
   "execution_count": 8,
   "id": "d4111990-5ec2-493e-8f0f-0f31d8466e77",
   "metadata": {},
   "outputs": [
    {
     "data": {
      "text/plain": [
       "array([22, 21, 27, 26])"
      ]
     },
     "execution_count": 8,
     "metadata": {},
     "output_type": "execute_result"
    }
   ],
   "source": [
    "# selecting those classes that having a even number of size\n",
    "classroom_ids_and_sizes[:,1]"
   ]
  },
  {
   "cell_type": "code",
   "execution_count": 10,
   "id": "84aae20a-5494-48bc-8d51-c0a983fbd772",
   "metadata": {},
   "outputs": [
    {
     "data": {
      "text/plain": [
       "array([ True, False, False,  True])"
      ]
     },
     "execution_count": 10,
     "metadata": {},
     "output_type": "execute_result"
    }
   ],
   "source": [
    "# if the class size is even then the resuling array will return true, if not false\n",
    "classroom_ids_and_sizes[:,1] % 2 == 0"
   ]
  },
  {
   "cell_type": "markdown",
   "id": "40e8de64-b290-473f-b637-3d4ad5165237",
   "metadata": {},
   "source": [
    "## Now to get the exact class id, index the classroom_ids_and_sizes with the mask"
   ]
  },
  {
   "cell_type": "code",
   "execution_count": 16,
   "id": "cb5e249b-7adb-4de1-b8e9-e3ada92b082d",
   "metadata": {},
   "outputs": [
    {
     "data": {
      "text/plain": [
       "array([1, 4])"
      ]
     },
     "execution_count": 16,
     "metadata": {},
     "output_type": "execute_result"
    }
   ],
   "source": [
    "filtered_ids = classroom_ids_and_sizes[classroom_ids_and_sizes[:, 1] % 2 == 0, 0]\n",
    "filtered_ids"
   ]
  },
  {
   "cell_type": "code",
   "execution_count": null,
   "id": "fa6e59a4-79ed-40ce-893f-7f95e70dc0a1",
   "metadata": {},
   "outputs": [],
   "source": []
  }
 ],
 "metadata": {
  "kernelspec": {
   "display_name": "Python 3 (ipykernel)",
   "language": "python",
   "name": "python3"
  },
  "language_info": {
   "codemirror_mode": {
    "name": "ipython",
    "version": 3
   },
   "file_extension": ".py",
   "mimetype": "text/x-python",
   "name": "python",
   "nbconvert_exporter": "python",
   "pygments_lexer": "ipython3",
   "version": "3.11.10"
  }
 },
 "nbformat": 4,
 "nbformat_minor": 5
}
