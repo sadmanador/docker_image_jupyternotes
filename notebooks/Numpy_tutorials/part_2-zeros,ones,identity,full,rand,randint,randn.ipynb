{
 "cells": [
  {
   "cell_type": "code",
   "execution_count": 2,
   "id": "4274ec24-3ee2-45e7-95d0-e1ddbe27418f",
   "metadata": {},
   "outputs": [],
   "source": [
    "import numpy as np"
   ]
  },
  {
   "cell_type": "markdown",
   "id": "f4b277c2",
   "metadata": {},
   "source": [
    "# Initializing Arrays, Zeros, Ones, Identity, Full, Rand, Randint, Randn"
   ]
  },
  {
   "cell_type": "code",
   "execution_count": 6,
   "id": "e63fd7d0-7715-4b70-b105-58704e04dedd",
   "metadata": {},
   "outputs": [
    {
     "data": {
      "text/plain": [
       "array([2, 3, 4, 5])"
      ]
     },
     "execution_count": 6,
     "metadata": {},
     "output_type": "execute_result"
    }
   ],
   "source": [
    "arr = np.array([2,3,4,5])\n",
    "arr"
   ]
  },
  {
   "cell_type": "code",
   "execution_count": 15,
   "id": "7e53cb75-5391-4f4c-9cbf-234f37cf1d55",
   "metadata": {},
   "outputs": [
    {
     "name": "stdout",
     "output_type": "stream",
     "text": [
      "int64\n"
     ]
    }
   ],
   "source": [
    "print(arr.dtype)"
   ]
  },
  {
   "cell_type": "markdown",
   "id": "8caf57f2-0b8d-412c-9041-55264147ea91",
   "metadata": {},
   "source": [
    "Provides the type of items"
   ]
  },
  {
   "cell_type": "code",
   "execution_count": 8,
   "id": "c60deb1f-5922-42ed-ad3f-907fac0c24a8",
   "metadata": {},
   "outputs": [
    {
     "data": {
      "text/plain": [
       "array([0., 0., 0., 0., 0., 0., 0., 0., 0., 0.])"
      ]
     },
     "execution_count": 8,
     "metadata": {},
     "output_type": "execute_result"
    }
   ],
   "source": [
    "np.zeros(10)"
   ]
  },
  {
   "cell_type": "code",
   "execution_count": 7,
   "id": "e108168f-b586-49c0-9c3d-d8c2841aacb7",
   "metadata": {},
   "outputs": [
    {
     "data": {
      "text/plain": [
       "array([[0., 0., 0.],\n",
       "       [0., 0., 0.]])"
      ]
     },
     "execution_count": 7,
     "metadata": {},
     "output_type": "execute_result"
    }
   ],
   "source": [
    "np.zeros((2,3))"
   ]
  },
  {
   "cell_type": "code",
   "execution_count": 9,
   "id": "be357b12-db12-4785-b5c1-2512dc348473",
   "metadata": {},
   "outputs": [
    {
     "data": {
      "text/plain": [
       "array([1., 1., 1., 1., 1., 1., 1., 1., 1., 1.])"
      ]
     },
     "execution_count": 9,
     "metadata": {},
     "output_type": "execute_result"
    }
   ],
   "source": [
    "np.ones(10)"
   ]
  },
  {
   "cell_type": "markdown",
   "id": "cacfdfe1-8816-4fda-ad7d-8f3e781605a3",
   "metadata": {},
   "source": [
    "If the dtype or datatype is not provided, by defauld It will become flooting point"
   ]
  },
  {
   "cell_type": "code",
   "execution_count": 11,
   "id": "eb7e75b3-9dda-4ba2-9c3a-fce352b9036e",
   "metadata": {},
   "outputs": [
    {
     "data": {
      "text/plain": [
       "array([1, 1, 1, 1, 1], dtype=int32)"
      ]
     },
     "execution_count": 11,
     "metadata": {},
     "output_type": "execute_result"
    }
   ],
   "source": [
    "np.ones(5, dtype='int32')"
   ]
  },
  {
   "cell_type": "code",
   "execution_count": 12,
   "id": "7ea3e7c5-18c0-4992-8bdb-e598d7155fb0",
   "metadata": {},
   "outputs": [
    {
     "data": {
      "text/plain": [
       "array([[1., 1., 1.],\n",
       "       [1., 1., 1.],\n",
       "       [1., 1., 1.]])"
      ]
     },
     "execution_count": 12,
     "metadata": {},
     "output_type": "execute_result"
    }
   ],
   "source": [
    "np.ones((3,3))"
   ]
  },
  {
   "cell_type": "code",
   "execution_count": 6,
   "id": "d9341448-b6fc-453e-abb2-f23f21737088",
   "metadata": {},
   "outputs": [
    {
     "data": {
      "text/plain": [
       "array([[88, 88],\n",
       "       [88, 88]])"
      ]
     },
     "execution_count": 6,
     "metadata": {},
     "output_type": "execute_result"
    }
   ],
   "source": [
    "np.full((2,2),88)"
   ]
  },
  {
   "cell_type": "markdown",
   "id": "abcb78cc-fc6e-42f5-8063-331e088379b9",
   "metadata": {},
   "source": [
    "Random array of 4 rows and 2 columns"
   ]
  },
  {
   "cell_type": "code",
   "execution_count": 3,
   "id": "fca61f92-2b4c-4517-85bd-bb3823b861f0",
   "metadata": {},
   "outputs": [
    {
     "data": {
      "text/plain": [
       "array([[0.6606844 , 0.79083933],\n",
       "       [0.00818883, 0.65226712],\n",
       "       [0.83348121, 0.54369695],\n",
       "       [0.1614313 , 0.04510128]])"
      ]
     },
     "execution_count": 3,
     "metadata": {},
     "output_type": "execute_result"
    }
   ],
   "source": [
    "np.random.rand(4,2)"
   ]
  },
  {
   "cell_type": "markdown",
   "id": "56a4ab65-27ff-4e45-84f5-f68fae319ec3",
   "metadata": {},
   "source": [
    "Array of 10 items, value between 1-100"
   ]
  },
  {
   "cell_type": "code",
   "execution_count": 5,
   "id": "68cbf214-24ea-47d8-bf7f-dec6591f9f34",
   "metadata": {},
   "outputs": [
    {
     "data": {
      "text/plain": [
       "array([20, 28, 92, 80, 41, 82,  5, 51, 34, 12])"
      ]
     },
     "execution_count": 5,
     "metadata": {},
     "output_type": "execute_result"
    }
   ],
   "source": [
    "np.random.randint(1,100,10)"
   ]
  },
  {
   "cell_type": "markdown",
   "id": "d35202fb-9c4c-4d56-9cd3-88291c40cc98",
   "metadata": {},
   "source": [
    "Size is providing the 3 rows and 3 column"
   ]
  },
  {
   "cell_type": "code",
   "execution_count": 6,
   "id": "4394a1b6-a63c-46a1-bfb6-26032a789e12",
   "metadata": {},
   "outputs": [
    {
     "data": {
      "text/plain": [
       "array([[14, 36, 14],\n",
       "       [41, 36, 24],\n",
       "       [20, 17,  8]])"
      ]
     },
     "execution_count": 6,
     "metadata": {},
     "output_type": "execute_result"
    }
   ],
   "source": [
    "np.random.randint(1,50,size=(3,3))"
   ]
  },
  {
   "cell_type": "code",
   "execution_count": 7,
   "id": "25508b8c-5b7a-46d9-a6ef-0316a7f2141b",
   "metadata": {},
   "outputs": [
    {
     "data": {
      "text/plain": [
       "array([-0.86953527, -1.42401776,  0.21008176, -1.14503133, -0.60272279,\n",
       "       -0.09290297,  0.21320418,  0.91627859, -0.11145577, -0.93473927,\n",
       "       -0.17264348, -0.94939037,  0.81235156, -1.30141166, -1.04865587,\n",
       "        0.04136278, -0.73830685,  1.07717066,  0.2981499 , -0.70883335])"
      ]
     },
     "execution_count": 7,
     "metadata": {},
     "output_type": "execute_result"
    }
   ],
   "source": [
    "np.random.randn(20)"
   ]
  },
  {
   "cell_type": "code",
   "execution_count": 4,
   "id": "49c454c4-54be-4b0f-b3df-f506c678fe09",
   "metadata": {},
   "outputs": [
    {
     "data": {
      "text/plain": [
       "array([[0.58979329, 0.99355723, 0.1107557 , 0.06217886, 0.20662383,\n",
       "        0.44590705],\n",
       "       [0.64032525, 0.05299123, 0.8944504 , 0.85013847, 0.8643972 ,\n",
       "        0.68102975],\n",
       "       [0.12777026, 0.76480381, 0.17988816, 0.17994506, 0.45614908,\n",
       "        0.45602168]])"
      ]
     },
     "execution_count": 4,
     "metadata": {},
     "output_type": "execute_result"
    }
   ],
   "source": [
    "np.random.random((3,6))"
   ]
  },
  {
   "cell_type": "code",
   "execution_count": 10,
   "id": "e937161c-7fda-47df-a6f8-802f30f94e42",
   "metadata": {},
   "outputs": [
    {
     "data": {
      "text/plain": [
       "array([[1., 0., 0., 0., 0.],\n",
       "       [0., 1., 0., 0., 0.],\n",
       "       [0., 0., 1., 0., 0.],\n",
       "       [0., 0., 0., 1., 0.],\n",
       "       [0., 0., 0., 0., 1.]])"
      ]
     },
     "execution_count": 10,
     "metadata": {},
     "output_type": "execute_result"
    }
   ],
   "source": [
    "np.identity(5)"
   ]
  },
  {
   "cell_type": "code",
   "execution_count": 11,
   "id": "6839b9f6-064e-419d-8cd9-72d2b6007b0a",
   "metadata": {},
   "outputs": [
    {
     "data": {
      "text/plain": [
       "array([[1., 0., 0., 0., 0.],\n",
       "       [0., 1., 0., 0., 0.],\n",
       "       [0., 0., 1., 0., 0.],\n",
       "       [0., 0., 0., 1., 0.],\n",
       "       [0., 0., 0., 0., 1.]])"
      ]
     },
     "execution_count": 11,
     "metadata": {},
     "output_type": "execute_result"
    }
   ],
   "source": [
    "np.eye(5)"
   ]
  },
  {
   "cell_type": "code",
   "execution_count": null,
   "id": "6cd092d0-8d6a-4673-a1ab-d03f061caf7c",
   "metadata": {},
   "outputs": [],
   "source": []
  }
 ],
 "metadata": {
  "kernelspec": {
   "display_name": "Python 3 (ipykernel)",
   "language": "python",
   "name": "python3"
  },
  "language_info": {
   "codemirror_mode": {
    "name": "ipython",
    "version": 3
   },
   "file_extension": ".py",
   "mimetype": "text/x-python",
   "name": "python",
   "nbconvert_exporter": "python",
   "pygments_lexer": "ipython3",
   "version": "3.11.10"
  }
 },
 "nbformat": 4,
 "nbformat_minor": 5
}
