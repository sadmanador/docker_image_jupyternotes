{
 "cells": [
  {
   "cell_type": "markdown",
   "id": "86e173da-0b25-49b6-8f6c-440b2b3da635",
   "metadata": {},
   "source": [
    "# Indexing and slicing (2d array)\n",
    "### Slicing produces new array of sliced data"
   ]
  },
  {
   "cell_type": "markdown",
   "id": "5ea33f9d-3ddb-4df6-8164-b39de45262e4",
   "metadata": {},
   "source": [
    "## \"arange\" function helps to make numeric ascending array"
   ]
  },
  {
   "cell_type": "code",
   "execution_count": 7,
   "id": "4eeba3dc-d433-4fc2-99d3-5302c1a5344f",
   "metadata": {},
   "outputs": [
    {
     "data": {
      "text/plain": [
       "array([ 0,  1,  2,  3,  4,  5,  6,  7,  8,  9, 10, 11, 12, 13, 14, 15, 16,\n",
       "       17, 18, 19, 20, 21, 22, 23])"
      ]
     },
     "execution_count": 7,
     "metadata": {},
     "output_type": "execute_result"
    }
   ],
   "source": [
    "import numpy as np\n",
    "array_2d = np.arange(24)\n",
    "array_2d"
   ]
  },
  {
   "cell_type": "markdown",
   "id": "f035e0a3-9473-481f-9ab9-c20a843a829f",
   "metadata": {},
   "source": [
    "## \"shape\" can make 2d array, however shape is an attribute"
   ]
  },
  {
   "cell_type": "code",
   "execution_count": 15,
   "id": "ccf64e78-0bdd-44db-9da6-5058b50c8c42",
   "metadata": {},
   "outputs": [
    {
     "data": {
      "text/plain": [
       "array([[ 0,  1,  2,  3],\n",
       "       [ 4,  5,  6,  7],\n",
       "       [ 8,  9, 10, 11],\n",
       "       [12, 13, 14, 15],\n",
       "       [16, 17, 18, 19],\n",
       "       [20, 21, 22, 23]])"
      ]
     },
     "execution_count": 15,
     "metadata": {},
     "output_type": "execute_result"
    }
   ],
   "source": [
    "array_2d.shape=(6,4)\n",
    "array_2d"
   ]
  },
  {
   "cell_type": "markdown",
   "id": "f55d4cf1-4aeb-445f-b5a5-7bea62061c0e",
   "metadata": {},
   "source": [
    "## \"reshape\" is similar like shape but reshape is function not and attribute"
   ]
  },
  {
   "cell_type": "code",
   "execution_count": 17,
   "id": "78158d3e-3796-47b3-bedf-4a1aa3d60624",
   "metadata": {},
   "outputs": [
    {
     "data": {
      "text/plain": [
       "array([[ 0,  1,  2,  3],\n",
       "       [ 4,  5,  6,  7],\n",
       "       [ 8,  9, 10, 11],\n",
       "       [12, 13, 14, 15],\n",
       "       [16, 17, 18, 19],\n",
       "       [20, 21, 22, 23]])"
      ]
     },
     "execution_count": 17,
     "metadata": {},
     "output_type": "execute_result"
    }
   ],
   "source": [
    "array_2d.reshape(8,3)\n",
    "array_2d"
   ]
  },
  {
   "cell_type": "markdown",
   "id": "3efcdc64-3a53-4ed5-bf0f-c46e0765f782",
   "metadata": {},
   "source": [
    "## Selecting or slicing array row wise"
   ]
  },
  {
   "cell_type": "code",
   "execution_count": 18,
   "id": "c8e355da-3d70-4670-a3d2-0a56a135efb1",
   "metadata": {},
   "outputs": [
    {
     "data": {
      "text/plain": [
       "array([ 8,  9, 10, 11])"
      ]
     },
     "execution_count": 18,
     "metadata": {},
     "output_type": "execute_result"
    }
   ],
   "source": [
    "array_2d[2]"
   ]
  },
  {
   "cell_type": "markdown",
   "id": "14da8fee-7e2a-4d07-afa6-784dc9e8b914",
   "metadata": {},
   "source": [
    "## Slicing both row and column wise to get a specific data"
   ]
  },
  {
   "cell_type": "code",
   "execution_count": 22,
   "id": "2bc3a8c4-fc80-492a-9c92-a7499259fa1b",
   "metadata": {},
   "outputs": [
    {
     "data": {
      "text/plain": [
       "np.int64(15)"
      ]
     },
     "execution_count": 22,
     "metadata": {},
     "output_type": "execute_result"
    }
   ],
   "source": [
    "array_2d[3,3]"
   ]
  },
  {
   "cell_type": "markdown",
   "id": "0a0edb82-9e09-4a26-8fbf-b7fc4aaf765b",
   "metadata": {},
   "source": [
    "## Slicing data column wise"
   ]
  },
  {
   "cell_type": "code",
   "execution_count": 23,
   "id": "96bfd315-3aa5-430b-b153-bcc99281d75e",
   "metadata": {},
   "outputs": [
    {
     "data": {
      "text/plain": [
       "array([[ 2],\n",
       "       [ 6],\n",
       "       [10],\n",
       "       [14],\n",
       "       [18],\n",
       "       [22]])"
      ]
     },
     "execution_count": 23,
     "metadata": {},
     "output_type": "execute_result"
    }
   ],
   "source": [
    "array_2d[:,[2]]"
   ]
  },
  {
   "cell_type": "markdown",
   "id": "ed481b68-ab1c-4ba5-8090-bc253780fcf3",
   "metadata": {},
   "source": [
    "## Slicing data range row wise"
   ]
  },
  {
   "cell_type": "code",
   "execution_count": 19,
   "id": "ad83945a-58c5-4368-b380-70759443df01",
   "metadata": {},
   "outputs": [
    {
     "data": {
      "text/plain": [
       "array([13, 14])"
      ]
     },
     "execution_count": 19,
     "metadata": {},
     "output_type": "execute_result"
    }
   ],
   "source": [
    "array_2d[3][1:3]"
   ]
  },
  {
   "cell_type": "markdown",
   "id": "07f58960-99ee-4d6d-841f-110f07572fd5",
   "metadata": {},
   "source": [
    "## Slicing Multiple rows"
   ]
  },
  {
   "cell_type": "code",
   "execution_count": 20,
   "id": "fe736a8f-109c-4f27-a8cb-c9281242b518",
   "metadata": {},
   "outputs": [
    {
     "data": {
      "text/plain": [
       "array([[ 4,  5,  6,  7],\n",
       "       [ 8,  9, 10, 11],\n",
       "       [12, 13, 14, 15]])"
      ]
     },
     "execution_count": 20,
     "metadata": {},
     "output_type": "execute_result"
    }
   ],
   "source": [
    "array_2d[[1,2,3]]"
   ]
  },
  {
   "cell_type": "markdown",
   "id": "c5857c3e-47b5-4a97-8100-38cefcd51190",
   "metadata": {},
   "source": [
    "## Making a subset of 2d array"
   ]
  },
  {
   "cell_type": "code",
   "execution_count": 21,
   "id": "2185e883-a893-436d-abac-4a8088d4a0a0",
   "metadata": {},
   "outputs": [
    {
     "data": {
      "text/plain": [
       "array([[0, 1],\n",
       "       [4, 5]])"
      ]
     },
     "execution_count": 21,
     "metadata": {},
     "output_type": "execute_result"
    }
   ],
   "source": [
    "array_2d[:2,:2]"
   ]
  },
  {
   "cell_type": "code",
   "execution_count": 24,
   "id": "b977b259-65cd-4c20-96bf-4bf01cfa4fce",
   "metadata": {},
   "outputs": [
    {
     "data": {
      "text/plain": [
       "array([ 8,  9, 10, 11])"
      ]
     },
     "execution_count": 24,
     "metadata": {},
     "output_type": "execute_result"
    }
   ],
   "source": [
    "array_2d[:][2]"
   ]
  },
  {
   "cell_type": "code",
   "execution_count": 20,
   "id": "9227d1d9-8638-4cc5-9ed8-d4d9b82e223b",
   "metadata": {},
   "outputs": [],
   "source": [
    "big_array = np.array([[ 1,  2,  3,  4,  5,  6,  7,  8,  9],\n",
    "                       [10, 11, 12, 13, 14, 15, 16, 17, 18],\n",
    "                       [19, 20, 21, 22, 23, 24, 25, 26, 27],\n",
    "                       [28, 29, 30, 31, 32, 33, 34, 35, 36],\n",
    "                       [37, 38, 39, 40, 41, 42, 43, 44, 45],\n",
    "                       [46, 47, 48, 49, 50, 51, 52, 53, 54],\n",
    "                       [55, 56, 57, 58, 59, 60, 61, 62, 63],\n",
    "                       [64, 65, 66, 67, 68, 69, 70, 71, 72],\n",
    "                       [73, 74, 75, 76, 77, 78, 79, 80, 81]])"
   ]
  },
  {
   "cell_type": "markdown",
   "id": "706bea18-3087-44e1-9336-4ae6235f2874",
   "metadata": {},
   "source": [
    "## Slicing as 2d array"
   ]
  },
  {
   "cell_type": "code",
   "execution_count": 22,
   "id": "2cdbddb4-2c88-48f4-be74-b628aa417a3b",
   "metadata": {},
   "outputs": [
    {
     "data": {
      "text/plain": [
       "array([[21, 22, 23],\n",
       "       [30, 31, 32],\n",
       "       [39, 40, 41]])"
      ]
     },
     "execution_count": 22,
     "metadata": {},
     "output_type": "execute_result"
    }
   ],
   "source": [
    "new = big_array[2:5, 2:5]\n",
    "new"
   ]
  },
  {
   "cell_type": "markdown",
   "id": "b4a71e2a-4b5a-4815-b0f0-3adf84dc618e",
   "metadata": {},
   "source": [
    "## Slicing as 2d array with steps"
   ]
  },
  {
   "cell_type": "code",
   "execution_count": 25,
   "id": "11e8074b-482d-4f32-9de6-821cc86f227f",
   "metadata": {},
   "outputs": [
    {
     "data": {
      "text/plain": [
       "array([[21, 23, 25],\n",
       "       [39, 41, 43],\n",
       "       [57, 59, 61]])"
      ]
     },
     "execution_count": 25,
     "metadata": {},
     "output_type": "execute_result"
    }
   ],
   "source": [
    "big_array[2:7:2, 2:7:2]"
   ]
  },
  {
   "cell_type": "markdown",
   "id": "bd1143d4-3ebe-4805-bf26-8df04a2f5bb7",
   "metadata": {},
   "source": [
    "## Sort function"
   ]
  },
  {
   "cell_type": "code",
   "execution_count": 26,
   "id": "725d5dba-a460-425d-a8d7-fd2ed298352e",
   "metadata": {},
   "outputs": [],
   "source": [
    "unsorted = np.array([[31, 82, 68, 36, 95, 17, 93, 30, 95],\n",
    "                     [92, 64, 31,  9, 51, 67,  2, 51, 83],\n",
    "                     [19, 41, 11, 33, 15, 96, 25, 68, 67],\n",
    "                     [ 3, 36, 94, 98, 72, 74, 32, 49, 94],\n",
    "                     [71, 55, 51, 85, 25, 85,  8, 31, 51],\n",
    "                     [26, 91, 70, 93, 22, 78, 87, 86, 52],\n",
    "                     [23, 80, 41, 34,  3, 64, 55, 86, 69],\n",
    "                     [49, 67, 23, 91, 62, 97, 24, 12, 44],\n",
    "                     [44, 91, 86, 82, 42, 36, 96, 91,  8]])"
   ]
  },
  {
   "cell_type": "markdown",
   "id": "b7f1159b-03b9-4c79-b369-5ca2c165e005",
   "metadata": {},
   "source": [
    "## row wise sorting or axis = 1"
   ]
  },
  {
   "cell_type": "code",
   "execution_count": 27,
   "id": "c82cceb4-f52c-41da-b47f-64bce516c1e9",
   "metadata": {},
   "outputs": [
    {
     "data": {
      "text/plain": [
       "array([[17, 30, 31, 36, 68, 82, 93, 95, 95],\n",
       "       [ 2,  9, 31, 51, 51, 64, 67, 83, 92],\n",
       "       [11, 15, 19, 25, 33, 41, 67, 68, 96],\n",
       "       [ 3, 32, 36, 49, 72, 74, 94, 94, 98],\n",
       "       [ 8, 25, 31, 51, 51, 55, 71, 85, 85],\n",
       "       [22, 26, 52, 70, 78, 86, 87, 91, 93],\n",
       "       [ 3, 23, 34, 41, 55, 64, 69, 80, 86],\n",
       "       [12, 23, 24, 44, 49, 62, 67, 91, 97],\n",
       "       [ 8, 36, 42, 44, 82, 86, 91, 91, 96]])"
      ]
     },
     "execution_count": 27,
     "metadata": {},
     "output_type": "execute_result"
    }
   ],
   "source": [
    "np.sort(unsorted)"
   ]
  },
  {
   "cell_type": "markdown",
   "id": "21b236ef-290a-41ad-bab5-ccca651e4a39",
   "metadata": {},
   "source": [
    "## column wise sorting"
   ]
  },
  {
   "cell_type": "code",
   "execution_count": 28,
   "id": "fc2b8c54-0844-40ea-ab1e-7c079a8de703",
   "metadata": {},
   "outputs": [
    {
     "data": {
      "text/plain": [
       "array([[ 3, 36, 11,  9,  3, 17,  2, 12,  8],\n",
       "       [19, 41, 23, 33, 15, 36,  8, 30, 44],\n",
       "       [23, 55, 31, 34, 22, 64, 24, 31, 51],\n",
       "       [26, 64, 41, 36, 25, 67, 25, 49, 52],\n",
       "       [31, 67, 51, 82, 42, 74, 32, 51, 67],\n",
       "       [44, 80, 68, 85, 51, 78, 55, 68, 69],\n",
       "       [49, 82, 70, 91, 62, 85, 87, 86, 83],\n",
       "       [71, 91, 86, 93, 72, 96, 93, 86, 94],\n",
       "       [92, 91, 94, 98, 95, 97, 96, 91, 95]])"
      ]
     },
     "execution_count": 28,
     "metadata": {},
     "output_type": "execute_result"
    }
   ],
   "source": [
    "np.sort(unsorted, axis=0)"
   ]
  },
  {
   "cell_type": "code",
   "execution_count": null,
   "id": "dea854ea-ff8e-4cdd-8831-7861a15cf0c4",
   "metadata": {},
   "outputs": [],
   "source": []
  }
 ],
 "metadata": {
  "kernelspec": {
   "display_name": "Python 3 (ipykernel)",
   "language": "python",
   "name": "python3"
  },
  "language_info": {
   "codemirror_mode": {
    "name": "ipython",
    "version": 3
   },
   "file_extension": ".py",
   "mimetype": "text/x-python",
   "name": "python",
   "nbconvert_exporter": "python",
   "pygments_lexer": "ipython3",
   "version": "3.11.10"
  }
 },
 "nbformat": 4,
 "nbformat_minor": 5
}
