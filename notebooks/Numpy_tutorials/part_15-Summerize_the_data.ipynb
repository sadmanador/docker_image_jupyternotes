{
 "cells": [
  {
   "cell_type": "code",
   "execution_count": 2,
   "id": "f71e0338-36f4-4078-aa2a-0928f2cc3c0b",
   "metadata": {},
   "outputs": [],
   "source": [
    "import numpy as np"
   ]
  },
  {
   "cell_type": "markdown",
   "id": "917f9aea-1449-4dfe-9dca-f8300c74ae58",
   "metadata": {},
   "source": [
    "# Sum, Min, Max, Mean, Cumsum"
   ]
  },
  {
   "cell_type": "markdown",
   "id": "1e35c1c9-9782-4ad7-810a-4f32b0e84ffc",
   "metadata": {},
   "source": [
    "## Sum\n",
    "* By defaul, sum returns the total of the whole 2d array\n",
    "* By axis control, sum of the column (axis = 0) or sum of the row (axis = 1) can be get\n",
    "* keepdims will return the answer in same dimensional array"
   ]
  },
  {
   "cell_type": "code",
   "execution_count": 3,
   "id": "1a8cc7a7-a557-44c9-981e-3421ed4ba4ab",
   "metadata": {},
   "outputs": [],
   "source": [
    "monthly_sales = np.array([[ 4134, 23925,  8657],\n",
    "                        [ 4116, 23875,  9142],\n",
    "                        [ 4673, 27197, 10645],\n",
    "                        [ 4580, 25637, 10456],\n",
    "                        [ 5109, 27995, 11299],\n",
    "                        [ 5011, 27419, 10625],\n",
    "                        [ 5245, 27305, 10630],\n",
    "                        [ 5270, 27760, 11550],\n",
    "                        [ 4680, 24988,  9762],\n",
    "                        [ 4913, 25802, 10456],\n",
    "                        [ 5312, 25405, 13401],\n",
    "                        [ 6630, 27797, 18403]])"
   ]
  },
  {
   "cell_type": "code",
   "execution_count": 5,
   "id": "4f3e6b67-9db3-44d1-af87-03c82bdaafcc",
   "metadata": {},
   "outputs": [
    {
     "data": {
      "text/plain": [
       "array([[36716],\n",
       "       [37133],\n",
       "       [42515],\n",
       "       [40673],\n",
       "       [44403],\n",
       "       [43055],\n",
       "       [43180],\n",
       "       [44580],\n",
       "       [39430],\n",
       "       [41171],\n",
       "       [44118],\n",
       "       [52830]])"
      ]
     },
     "execution_count": 5,
     "metadata": {},
     "output_type": "execute_result"
    }
   ],
   "source": [
    "monthly_industry_sales = monthly_sales.sum(axis=1, keepdims=True)\n",
    "monthly_industry_sales"
   ]
  },
  {
   "cell_type": "code",
   "execution_count": 7,
   "id": "084d92ab-481b-4bdd-b873-72f7b87d3b3d",
   "metadata": {},
   "outputs": [
    {
     "data": {
      "text/plain": [
       "array([[ 4134, 23925,  8657, 36716],\n",
       "       [ 4116, 23875,  9142, 37133],\n",
       "       [ 4673, 27197, 10645, 42515],\n",
       "       [ 4580, 25637, 10456, 40673],\n",
       "       [ 5109, 27995, 11299, 44403],\n",
       "       [ 5011, 27419, 10625, 43055],\n",
       "       [ 5245, 27305, 10630, 43180],\n",
       "       [ 5270, 27760, 11550, 44580],\n",
       "       [ 4680, 24988,  9762, 39430],\n",
       "       [ 4913, 25802, 10456, 41171],\n",
       "       [ 5312, 25405, 13401, 44118],\n",
       "       [ 6630, 27797, 18403, 52830]])"
      ]
     },
     "execution_count": 7,
     "metadata": {},
     "output_type": "execute_result"
    }
   ],
   "source": [
    "# adding the sum as a new column in the 2d array\n",
    "monthly_sales_with_total = np.concatenate((monthly_sales, monthly_industry_sales), axis=1)\n",
    "monthly_sales_with_total"
   ]
  },
  {
   "cell_type": "code",
   "execution_count": 9,
   "id": "70fc804d-d46a-4f0e-9945-7ce59d81c947",
   "metadata": {},
   "outputs": [
    {
     "data": {
      "text/plain": [
       "array([12238.66666667, 12377.66666667, 14171.66666667, 13557.66666667,\n",
       "       14801.        , 14351.66666667, 14393.33333333, 14860.        ,\n",
       "       13143.33333333, 13723.66666667, 14706.        , 17610.        ])"
      ]
     },
     "execution_count": 9,
     "metadata": {},
     "output_type": "execute_result"
    }
   ],
   "source": [
    "avg_monthly_sales = monthly_sales.mean(axis=1)\n",
    "avg_monthly_sales"
   ]
  },
  {
   "cell_type": "markdown",
   "id": "7ea87d0a-ef68-4052-83ab-65ec5f3d908c",
   "metadata": {},
   "source": [
    "# Finding the min of the array"
   ]
  },
  {
   "cell_type": "code",
   "execution_count": 4,
   "id": "75dccfaf-6509-47df-a7e1-ed4da84adeae",
   "metadata": {},
   "outputs": [
    {
     "data": {
      "text/plain": [
       "np.int64(4116)"
      ]
     },
     "execution_count": 4,
     "metadata": {},
     "output_type": "execute_result"
    }
   ],
   "source": [
    "monthly_sales.min()"
   ]
  },
  {
   "cell_type": "markdown",
   "id": "213e71e3-fbc0-474b-af1e-a611d0bc2034",
   "metadata": {},
   "source": [
    "## Finding the min of the column"
   ]
  },
  {
   "cell_type": "code",
   "execution_count": 5,
   "id": "6bc853fe-1828-4d60-a4e4-56493b70b853",
   "metadata": {},
   "outputs": [
    {
     "data": {
      "text/plain": [
       "array([ 4116, 23875,  8657])"
      ]
     },
     "execution_count": 5,
     "metadata": {},
     "output_type": "execute_result"
    }
   ],
   "source": [
    "monthly_sales.min(axis = 0)"
   ]
  },
  {
   "cell_type": "markdown",
   "id": "552b3850-9572-4d50-83dc-bab78cfcd649",
   "metadata": {},
   "source": [
    "## Finding the min of the row"
   ]
  },
  {
   "cell_type": "code",
   "execution_count": 7,
   "id": "8b7a7ac9-e5ae-4944-8a46-cf741d3454c6",
   "metadata": {},
   "outputs": [
    {
     "data": {
      "text/plain": [
       "array([[4134],\n",
       "       [4116],\n",
       "       [4673],\n",
       "       [4580],\n",
       "       [5109],\n",
       "       [5011],\n",
       "       [5245],\n",
       "       [5270],\n",
       "       [4680],\n",
       "       [4913],\n",
       "       [5312],\n",
       "       [6630]])"
      ]
     },
     "execution_count": 7,
     "metadata": {},
     "output_type": "execute_result"
    }
   ],
   "source": [
    "monthly_sales.min(axis = 1, keepdims = True)"
   ]
  },
  {
   "cell_type": "markdown",
   "id": "88fe3b96-771e-4647-a6fd-eac2b6220920",
   "metadata": {},
   "source": [
    "# Finding the max of the array"
   ]
  },
  {
   "cell_type": "code",
   "execution_count": 8,
   "id": "d50c56ad-ddf9-4dfd-be63-8d1ca922de5c",
   "metadata": {},
   "outputs": [
    {
     "data": {
      "text/plain": [
       "np.int64(27995)"
      ]
     },
     "execution_count": 8,
     "metadata": {},
     "output_type": "execute_result"
    }
   ],
   "source": [
    "monthly_sales.max()"
   ]
  },
  {
   "cell_type": "markdown",
   "id": "796030b3-7da9-45aa-b257-a4b8d68b391a",
   "metadata": {},
   "source": [
    "## Finding the max of the column"
   ]
  },
  {
   "cell_type": "code",
   "execution_count": 9,
   "id": "e38e2c56-330e-496c-90ca-cd0e1647bc74",
   "metadata": {},
   "outputs": [
    {
     "data": {
      "text/plain": [
       "array([ 6630, 27995, 18403])"
      ]
     },
     "execution_count": 9,
     "metadata": {},
     "output_type": "execute_result"
    }
   ],
   "source": [
    "monthly_sales.max(axis = 0)"
   ]
  },
  {
   "cell_type": "markdown",
   "id": "e7ed6a74-368e-48e6-ad85-044f4cd46fc5",
   "metadata": {},
   "source": [
    "## Finding the max of the row"
   ]
  },
  {
   "cell_type": "code",
   "execution_count": 10,
   "id": "2cd2712d-9173-483e-8d35-f117b0c26e21",
   "metadata": {},
   "outputs": [
    {
     "data": {
      "text/plain": [
       "array([[4134],\n",
       "       [4116],\n",
       "       [4673],\n",
       "       [4580],\n",
       "       [5109],\n",
       "       [5011],\n",
       "       [5245],\n",
       "       [5270],\n",
       "       [4680],\n",
       "       [4913],\n",
       "       [5312],\n",
       "       [6630]])"
      ]
     },
     "execution_count": 10,
     "metadata": {},
     "output_type": "execute_result"
    }
   ],
   "source": [
    "monthly_sales.min(axis = 1, keepdims = True)"
   ]
  },
  {
   "cell_type": "markdown",
   "id": "991be053-9f10-496f-b68f-744504ff6c4e",
   "metadata": {},
   "source": [
    "# Cumsum applied on whole array"
   ]
  },
  {
   "cell_type": "code",
   "execution_count": 12,
   "id": "77ff5c65-6314-4994-86a1-18aacabc2c7b",
   "metadata": {},
   "outputs": [
    {
     "data": {
      "text/plain": [
       "array([  4134,  28059,  36716,  40832,  64707,  73849,  78522, 105719,\n",
       "       116364, 120944, 146581, 157037, 162146, 190141, 201440, 206451,\n",
       "       233870, 244495, 249740, 277045, 287675, 292945, 320705, 332255,\n",
       "       336935, 361923, 371685, 376598, 402400, 412856, 418168, 443573,\n",
       "       456974, 463604, 491401, 509804])"
      ]
     },
     "execution_count": 12,
     "metadata": {},
     "output_type": "execute_result"
    }
   ],
   "source": [
    "monthly_sales.cumsum()"
   ]
  },
  {
   "cell_type": "markdown",
   "id": "ad0270f3-6717-4275-9ba6-6ffadfbb049f",
   "metadata": {},
   "source": [
    "## Cumsum applied on column axis"
   ]
  },
  {
   "cell_type": "code",
   "execution_count": 17,
   "id": "7d42565c-eeb1-4b7c-883b-d06eff829471",
   "metadata": {},
   "outputs": [
    {
     "data": {
      "text/plain": [
       "array([[  4134,  23925,   8657],\n",
       "       [  8250,  47800,  17799],\n",
       "       [ 12923,  74997,  28444],\n",
       "       [ 17503, 100634,  38900],\n",
       "       [ 22612, 128629,  50199],\n",
       "       [ 27623, 156048,  60824],\n",
       "       [ 32868, 183353,  71454],\n",
       "       [ 38138, 211113,  83004],\n",
       "       [ 42818, 236101,  92766],\n",
       "       [ 47731, 261903, 103222],\n",
       "       [ 53043, 287308, 116623],\n",
       "       [ 59673, 315105, 135026]])"
      ]
     },
     "execution_count": 17,
     "metadata": {},
     "output_type": "execute_result"
    }
   ],
   "source": [
    "monthly_sales.cumsum(axis = 0)"
   ]
  },
  {
   "cell_type": "markdown",
   "id": "91c6e07f-2af6-46fe-b9cb-a445524be80b",
   "metadata": {},
   "source": [
    "## Cumsum applied on row axis"
   ]
  },
  {
   "cell_type": "code",
   "execution_count": 18,
   "id": "0ba462b1-468d-4c0d-bf51-4bb8105e7e05",
   "metadata": {},
   "outputs": [
    {
     "data": {
      "text/plain": [
       "array([[ 4134, 28059, 36716],\n",
       "       [ 4116, 27991, 37133],\n",
       "       [ 4673, 31870, 42515],\n",
       "       [ 4580, 30217, 40673],\n",
       "       [ 5109, 33104, 44403],\n",
       "       [ 5011, 32430, 43055],\n",
       "       [ 5245, 32550, 43180],\n",
       "       [ 5270, 33030, 44580],\n",
       "       [ 4680, 29668, 39430],\n",
       "       [ 4913, 30715, 41171],\n",
       "       [ 5312, 30717, 44118],\n",
       "       [ 6630, 34427, 52830]])"
      ]
     },
     "execution_count": 18,
     "metadata": {},
     "output_type": "execute_result"
    }
   ],
   "source": [
    "monthly_sales.cumsum(axis = 1)"
   ]
  },
  {
   "cell_type": "code",
   "execution_count": null,
   "id": "21e27747-9d8f-48c8-94eb-814ab9db45a6",
   "metadata": {},
   "outputs": [],
   "source": []
  }
 ],
 "metadata": {
  "kernelspec": {
   "display_name": "Python 3 (ipykernel)",
   "language": "python",
   "name": "python3"
  },
  "language_info": {
   "codemirror_mode": {
    "name": "ipython",
    "version": 3
   },
   "file_extension": ".py",
   "mimetype": "text/x-python",
   "name": "python",
   "nbconvert_exporter": "python",
   "pygments_lexer": "ipython3",
   "version": "3.11.10"
  }
 },
 "nbformat": 4,
 "nbformat_minor": 5
}
